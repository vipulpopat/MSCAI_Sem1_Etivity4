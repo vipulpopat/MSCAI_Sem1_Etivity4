{
 "cells": [
  {
   "cell_type": "markdown",
   "metadata": {},
   "source": [
    "Student Details\n",
    "\n",
    "Name: Fergus Mc Hale\n",
    "\n",
    "ID: 18203485"
   ]
  },
  {
   "cell_type": "markdown",
   "metadata": {},
   "source": [
    "All necessary imports are provided. Please do not add further imports."
   ]
  },
  {
   "cell_type": "code",
   "execution_count": 1,
   "metadata": {},
   "outputs": [],
   "source": [
    "import matplotlib.pyplot as plt\n",
    "import numpy as np\n",
    "import random\n",
    "import math\n",
    "from sklearn.model_selection import train_test_split\n",
    "from sklearn import linear_model\n",
    "from sklearn.linear_model import LassoCV\n",
    "from sklearn.linear_model import RidgeCV\n",
    "from sklearn.linear_model import Lasso\n",
    "from sklearn.linear_model import Ridge\n",
    "from sklearn.linear_model import LinearRegression\n",
    "from sklearn.model_selection import KFold"
   ]
  },
  {
   "cell_type": "markdown",
   "metadata": {},
   "source": [
    "Below is the exact same data you used for the regression in E-tivity 3, but this time you know exactly what function generated the data"
   ]
  },
  {
   "cell_type": "code",
   "execution_count": 2,
   "metadata": {},
   "outputs": [
    {
     "data": {
      "image/png": "[encoded data removed]",
      "text/plain": [
       "<Figure size 432x288 with 1 Axes>"
      ]
     },
     "metadata": {
      "needs_background": "light"
     },
     "output_type": "display_data"
    }
   ],
   "source": [
    "def target(X):\n",
    "    #return: 0.5X^5-0.5X^3-4.25X^2+5.125X-0.4375\n",
    "    return 0.5*((X-.5)-10*(X-.5)**2-(X-.5)**3+X**5)+1\n",
    "\n",
    "points = 100\n",
    "X = np.linspace(0, 1, points) # 100 values between 0 and 100\n",
    "noise=np.random.random(points)/4\n",
    "y_nf = target(X) #noise free target\n",
    "y = y_nf+noise #noisy target\n",
    "\n",
    "plt.plot(X,y,'r.')\n",
    "plt.show()"
   ]
  },
  {
   "cell_type": "code",
   "execution_count": 13,
   "metadata": {},
   "outputs": [],
   "source": [
    "k = points/10"
   ]
  },
  {
   "cell_type": "code",
   "execution_count": 14,
   "metadata": {},
   "outputs": [
    {
     "name": "stdout",
     "output_type": "stream",
     "text": [
      "10 Fold Cross Cross Validation Points : 10.0\n"
     ]
    }
   ],
   "source": [
    "print(\"10 Fold Cross Cross Validation Points :\", k)"
   ]
  },
  {
   "cell_type": "markdown",
   "metadata": {},
   "source": [
    "Below is an implementation of linear regression with regularization"
   ]
  },
  {
   "cell_type": "code",
   "execution_count": 17,
   "metadata": {},
   "outputs": [],
   "source": [
    "# Wreg = (Z^TZ+lambaI)-1 Z^Ty\n",
    "def weights_reg(X,y,l):\n",
    "    n = len(X)\n",
    "    m=X.T.dot(X)\n",
    "    return np.linalg.inv(m+l*np.identity(m.shape[0])).dot(X.T).dot(y)"
   ]
  },
  {
   "cell_type": "code",
   "execution_count": 18,
   "metadata": {},
   "outputs": [],
   "source": [
    "# Wlin - (Z^TZ)-1 Z^Ty\n",
    "def lin_reg(w,X):\n",
    "    # Calculation of outputs given weights and data (X). Note that X needs to contain the bias of 1. \n",
    "    out=[]\n",
    "    for x in X:\n",
    "        out.append(w.T.dot(x))\n",
    "    return np.array(out)"
   ]
  },
  {
   "cell_type": "code",
   "execution_count": 5,
   "metadata": {},
   "outputs": [],
   "source": [
    "def calc_error(w,X,y):\n",
    "    # Calculate the error as the mean squared error\n",
    "    pred = lin_reg(w,X)\n",
    "    return math.sqrt((pred-np.array(y)).dot(pred-np.array(y))/len(X))"
   ]
  },
  {
   "cell_type": "markdown",
   "metadata": {},
   "source": [
    "To create higher order features:"
   ]
  },
  {
   "cell_type": "code",
   "execution_count": 6,
   "metadata": {},
   "outputs": [],
   "source": [
    "def transPoly(X, power):\n",
    "    # Extend the data in X with a bias (1) and powers of the feature up to 'power'\n",
    "    ones = np.ones((X.shape[0],1))\n",
    "    extra=[]\n",
    "    for x in X:\n",
    "        row=[]\n",
    "        for p in range(2,power+1):\n",
    "            row.append(x**p)\n",
    "        extra.append(row)\n",
    "    return np.concatenate((ones, X.reshape(len(X),1),np.array(extra)),1)"
   ]
  },
  {
   "cell_type": "markdown",
   "metadata": {},
   "source": [
    "Iterate over lambda, train the model and calculate Eout. Plot the latter versus lambda to see how much regularization is required."
   ]
  },
  {
   "cell_type": "code",
   "execution_count": 9,
   "metadata": {},
   "outputs": [],
   "source": [
    "ein=[]\n",
    "eout=[]\n",
    "weights=[]\n",
    "lambdas = [0,0.0001,0.01,1] #Lamba is infinite\n",
    "X_trans = transPoly(X,50)\n",
    "# random_state fixed to get reproducible (and 'good'! :-)) results\n",
    "X_train, X_test, y_train, y_test = train_test_split(X_trans, y, train_size=0.9, random_state =5)\n",
    "for l in lambdas:    \n",
    "    w = weights_reg(X_train,y_train,l)\n",
    "    ein.append(calc_error(w,X_train,y_train))\n",
    "    eout.append(calc_error(w,X_test,y_test))\n",
    "    weights.append(w)\n"
   ]
  },
  {
   "cell_type": "code",
   "execution_count": 10,
   "metadata": {},
   "outputs": [
    {
     "name": "stdout",
     "output_type": "stream",
     "text": [
      "[0.7185693360068193, 0.06849544079106615, 0.0734749500242904, 0.1995941720485295]\n"
     ]
    }
   ],
   "source": [
    "print(ein)"
   ]
  },
  {
   "cell_type": "code",
   "execution_count": 11,
   "metadata": {},
   "outputs": [
    {
     "name": "stdout",
     "output_type": "stream",
     "text": [
      "[0.627206849100692, 0.047805044830375204, 0.05678824189001422, 0.12420999574113951]\n"
     ]
    }
   ],
   "source": [
    "print(eout)"
   ]
  },
  {
   "cell_type": "code",
   "execution_count": 12,
   "metadata": {},
   "outputs": [
    {
     "name": "stdout",
     "output_type": "stream",
     "text": [
      "[array([-2.81370565e+00,  8.09095407e+01, -6.85247560e+02, -6.12290770e+02,\n",
      "        5.11541114e+04, -3.64534170e+05,  1.17607500e+06, -1.55468795e+06,\n",
      "       -1.52982544e+06,  9.65657106e+06, -1.70200832e+07,  1.40169138e+07,\n",
      "       -4.09776076e+05, -1.16234206e+07,  1.17284901e+07, -4.28818166e+06,\n",
      "        8.46810569e+05, -1.95079395e+06,  2.12414751e+06, -2.47057610e+06,\n",
      "        1.71286765e+06, -7.76452218e+05,  2.37371002e+06, -5.48181779e+05,\n",
      "       -4.94553722e+05, -3.41676517e+05, -1.46243683e+06, -2.22920682e+05,\n",
      "       -1.01656933e+06,  1.71022849e+06,  8.84667696e+05,  1.82525693e+06,\n",
      "        1.91343034e+04,  3.09731281e+05, -1.73517069e+06, -1.92181655e+06,\n",
      "       -3.02548468e+05, -2.33840652e+05,  6.55637491e+05,  6.11776570e+05,\n",
      "        1.49213574e+06, -3.06622177e+05,  6.40726214e+05, -1.24295252e+06,\n",
      "        8.83447096e+05, -1.09300172e+06, -4.30066546e+05,  3.95142753e+05,\n",
      "       -5.02611122e+05,  1.33514499e+06, -6.05247690e+05]), array([-0.32531419,  4.99194791, -3.15265119, -1.95419881, -0.18571567,\n",
      "        0.49199029,  0.47139542,  0.27286286,  0.13665587,  0.10135966,\n",
      "        0.12554171,  0.15827396,  0.16567752,  0.13442986,  0.06661294,\n",
      "       -0.02695513, -0.13216885, -0.23525286, -0.32477038, -0.39246726,\n",
      "       -0.43337276, -0.44548074, -0.42923324, -0.3869465 , -0.32226039,\n",
      "       -0.23965255, -0.14403386, -0.04042713,  0.06627725,  0.17149823,\n",
      "        0.27108483,  0.36139139,  0.43931687,  0.502317  ,  0.548396  ,\n",
      "        0.57608383,  0.58440356,  0.57283235,  0.54125896,  0.48993979,\n",
      "        0.41945493,  0.33066548,  0.22467272,  0.10277982, -0.03354384,\n",
      "       -0.18269538, -0.34296825, -0.51257918, -0.68969229, -0.87244065,\n",
      "       -1.05894523]), array([-0.2491852 ,  4.14408748, -1.54990327, -1.76542663, -0.9402787 ,\n",
      "       -0.24642449,  0.15454423,  0.3280152 ,  0.36102792,  0.31912987,\n",
      "        0.24439619,  0.16157905,  0.08411397,  0.01847255, -0.03298097,\n",
      "       -0.07019855, -0.09435488, -0.10719399, -0.11064843, -0.10662512,\n",
      "       -0.09689211, -0.08302579, -0.06639335, -0.04815541, -0.02927931,\n",
      "       -0.01055762,  0.0073716 ,  0.02400458,  0.03895283,  0.05192577,\n",
      "        0.06271519,  0.07118166,  0.07724263,  0.08086224,  0.08204259,\n",
      "        0.08081631,  0.07724024,  0.0713902 ,  0.06335649,  0.0532402 ,\n",
      "        0.04115013,  0.02720025,  0.01150758, -0.00580952, -0.02463275,\n",
      "       -0.04484496, -0.06633111, -0.08897891, -0.11267939, -0.13732735,\n",
      "       -0.16282158]), array([ 2.24874086e-01,  1.37448201e+00,  3.35595503e-01, -1.18609413e-01,\n",
      "       -2.72797105e-01, -3.00281827e-01, -2.77637303e-01, -2.37847754e-01,\n",
      "       -1.94994408e-01, -1.54842931e-01, -1.19455520e-01, -8.92549908e-02,\n",
      "       -6.39684619e-02, -4.30627361e-02, -2.59431783e-02, -1.20407532e-02,\n",
      "       -8.45948075e-04,  8.08220237e-03,  1.51182795e-02,  2.05771641e-02,\n",
      "        2.47220469e-02,  2.77722995e-02,  2.99105912e-02,  3.12890598e-02,\n",
      "        3.20345334e-02,  3.22528916e-02,  3.20326753e-02,  3.14480648e-02,\n",
      "        3.05613275e-02,  2.94248321e-02,  2.80827043e-02,  2.65721896e-02,\n",
      "        2.49247787e-02,  2.31671355e-02,  2.13218677e-02,  1.94081643e-02,\n",
      "        1.74423281e-02,  1.54382181e-02,  1.34076210e-02,  1.13605612e-02,\n",
      "        9.30556229e-03,  7.24986701e-03,  5.19962293e-03,  3.16003963e-03,\n",
      "        1.13552209e-03, -8.70216003e-04, -2.85405563e-03, -4.81339003e-03,\n",
      "       -6.74605418e-03, -8.65026433e-03, -1.05245661e-02])]\n"
     ]
    }
   ],
   "source": [
    "print(weights)"
   ]
  },
  {
   "cell_type": "code",
   "execution_count": 22,
   "metadata": {},
   "outputs": [
    {
     "name": "stdout",
     "output_type": "stream",
     "text": [
      "Error does not exceed Hoeffding\n",
      "Error does not exceed VC\n"
     ]
    },
    {
     "data": {
      "image/png": "[encoded data removed]",
      "text/plain": [
       "<Figure size 432x288 with 1 Axes>"
      ]
     },
     "metadata": {
      "needs_background": "light"
     },
     "output_type": "display_data"
    }
   ],
   "source": [
    "N = 100\n",
    "error_diff = abs(np.array(ein)-np.array(eout))\n",
    "epsilons = np.arange(0.001,0.075,0.001)\n",
    "prob_epsilon=[]\n",
    "for e in epsilons:\n",
    "        prob_epsilon.append(len([1 for i in error_diff if i > e])/len(error_diff))\n",
    "plt.plot(epsilons, prob_epsilon)\n",
    "\n",
    "hoef = [2*math.exp(-2*N*e**2) for e in epsilons]\n",
    "vc = [4*(2*N)**3*math.exp(-(N/8)*e**2) for e in epsilons]\n",
    "\n",
    "print(\"Error exceeds Hoeffding\" if max(np.array(prob_epsilon)-np.array(hoef))>0 else \"Error does not exceed Hoeffding\")\n",
    "print(\"Error exceeds VC\" if max(np.array(prob_epsilon)-np.array(vc))>0 else \"Error does not exceed VC\")\n",
    "plt.plot(epsilons, hoef,'r')\n",
    "plt.plot(epsilons, vc, 'g')\n",
    "plt.yscale('log')\n",
    "plt.show()"
   ]
  },
  {
   "cell_type": "code",
   "execution_count": null,
   "metadata": {},
   "outputs": [],
   "source": []
  }
 ],
 "metadata": {
  "kernelspec": {
   "display_name": "Python 3",
   "language": "python",
   "name": "python3"
  },
  "language_info": {
   "codemirror_mode": {
    "name": "ipython",
    "version": 3
   },
   "file_extension": ".py",
   "mimetype": "text/x-python",
   "name": "python",
   "nbconvert_exporter": "python",
   "pygments_lexer": "ipython3",
   "version": "3.7.1"
  }
 },
 "nbformat": 4,
 "nbformat_minor": 2
}
