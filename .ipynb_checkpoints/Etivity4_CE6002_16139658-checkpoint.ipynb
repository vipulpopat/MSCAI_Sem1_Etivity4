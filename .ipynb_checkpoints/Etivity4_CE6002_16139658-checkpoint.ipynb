{
 "cells": [
  {
   "cell_type": "markdown",
   "metadata": {},
   "source": [
    "Student Details\n",
    "\n",
    "Name: Cormac Lavery\n",
    "\n",
    "ID: 16139658"
   ]
  },
  {
   "cell_type": "markdown",
   "metadata": {},
   "source": [
    "All necessary imports are provided. Please do not add further imports."
   ]
  },
  {
   "cell_type": "code",
   "execution_count": 1,
   "metadata": {},
   "outputs": [],
   "source": [
    "import matplotlib.pyplot as plt\n",
    "import numpy as np\n",
    "import random\n",
    "import math\n",
    "from sklearn.model_selection import train_test_split\n",
    "from sklearn import linear_model\n",
    "from sklearn.linear_model import LassoCV\n",
    "from sklearn.linear_model import RidgeCV\n",
    "from sklearn.linear_model import Lasso\n",
    "from sklearn.linear_model import Ridge\n",
    "from sklearn.linear_model import LinearRegression\n",
    "from sklearn.model_selection import KFold"
   ]
  },
  {
   "cell_type": "markdown",
   "metadata": {},
   "source": [
    "Below is the exact same data you used for the regression in E-tivity 3, but this time you know exactly what function generated the data"
   ]
  },
  {
   "cell_type": "code",
   "execution_count": 2,
   "metadata": {},
   "outputs": [
    {
     "data": {
      "image/png": "[encoded data removed]",
      "text/plain": [
       "<matplotlib.figure.Figure at 0x1088ff588>"
      ]
     },
     "metadata": {},
     "output_type": "display_data"
    }
   ],
   "source": [
    "def target(X):\n",
    "    #return: 0.5X^5-0.5X^3-4.25X^2+5.125X-0.4375\n",
    "    return 0.5*((X-.5)-10*(X-.5)**2-(X-.5)**3+X**5)+1\n",
    "\n",
    "points = 100\n",
    "X = np.linspace(0, 1, points) # 100 values between 0 and 100\n",
    "noise=np.random.random(points)/4\n",
    "y_nf = target(X) #noise free target\n",
    "y = y_nf+noise #noisy target\n",
    "\n",
    "plt.plot(X,y,'r.')\n",
    "plt.show()"
   ]
  },
  {
   "cell_type": "markdown",
   "metadata": {},
   "source": [
    "Below is an implementation of linear regression with regularization"
   ]
  },
  {
   "cell_type": "code",
   "execution_count": 3,
   "metadata": {},
   "outputs": [],
   "source": [
    "def weights_reg(X,y,l):\n",
    "    n = len(X)\n",
    "    m=X.T.dot(X)\n",
    "    return np.linalg.inv(m+l*np.identity(m.shape[0])).dot(X.T).dot(y)"
   ]
  },
  {
   "cell_type": "code",
   "execution_count": 4,
   "metadata": {},
   "outputs": [],
   "source": [
    "def lin_reg(w,X):\n",
    "    # Calculation of outputs given weights and data (X). Note that X needs to contain the bias of 1. \n",
    "    out=[]\n",
    "    for x in X:\n",
    "        out.append(w.T.dot(x))\n",
    "    return np.array(out)"
   ]
  },
  {
   "cell_type": "code",
   "execution_count": 5,
   "metadata": {},
   "outputs": [],
   "source": [
    "def calc_error(w,X,y):\n",
    "    # Calculate the error as the mean squared error\n",
    "    pred = lin_reg(w,X)\n",
    "    return math.sqrt((pred-np.array(y)).dot(pred-np.array(y))/len(X))"
   ]
  },
  {
   "cell_type": "markdown",
   "metadata": {},
   "source": [
    "To create higher order features:"
   ]
  },
  {
   "cell_type": "code",
   "execution_count": 6,
   "metadata": {},
   "outputs": [],
   "source": [
    "def transPoly(X, power):\n",
    "    # Extend the data in X with a bias (1) and powers of the feature up to 'power'\n",
    "    ones = np.ones((X.shape[0],1))\n",
    "    extra=[]\n",
    "    for x in X:\n",
    "        row=[]\n",
    "        for p in range(2,power+1):\n",
    "            row.append(x**p)\n",
    "        extra.append(row)\n",
    "    return np.concatenate((ones, X.reshape(len(X),1),np.array(extra)),1)"
   ]
  },
  {
   "cell_type": "markdown",
   "metadata": {},
   "source": [
    "Iterate over lambda, train the model and calculate Eout. Plot the latter versus lambda to see how much regularization is required."
   ]
  },
  {
   "cell_type": "code",
   "execution_count": 7,
   "metadata": {},
   "outputs": [
    {
     "name": "stderr",
     "output_type": "stream",
     "text": [
      "/Library/Frameworks/Python.framework/Versions/3.6/lib/python3.6/site-packages/sklearn/model_selection/_split.py:2026: FutureWarning: From version 0.21, test_size will always complement train_size unless both are specified.\n",
      "  FutureWarning)\n"
     ]
    }
   ],
   "source": [
    "ein=[]\n",
    "eout=[]\n",
    "weights=[]\n",
    "lambdas = [0,1,2]\n",
    "X_trans = transPoly(X,50)\n",
    "# random_state fixed to get reproducible (and 'good'! :-)) results\n",
    "X_train, X_test, y_train, y_test = train_test_split(X_trans, y, train_size=0.9, random_state =5)\n",
    "for l in lambdas:    \n",
    "    w = weights_reg(X_train,y_train,l)\n",
    "    ein.append(calc_error(w,X_train,y_train))\n",
    "    eout.append(calc_error(w,X_test,y_test))\n",
    "    weights.append(w)\n"
   ]
  },
  {
   "cell_type": "code",
   "execution_count": 12,
   "metadata": {},
   "outputs": [
    {
     "name": "stdout",
     "output_type": "stream",
     "text": [
      "[1.6458312476877759, 0.19332217308695213, 0.22775701169222615]\n",
      "[1.5962439142862106, 0.1708553297916376, 0.1958312539650927]\n",
      "[array([-9.26472698e+00,  4.25923821e+02, -5.41400385e+03,  4.10561703e+04,\n",
      "       -2.76423852e+05,  1.60561458e+06, -6.89299131e+06,  2.08582452e+07,\n",
      "       -4.47798966e+07,  6.90913009e+07, -7.71663428e+07,  6.27624419e+07,\n",
      "       -3.77997617e+07,  1.66383695e+07, -2.81617650e+06, -4.50481772e+06,\n",
      "        5.73812297e+06, -3.29101947e+06,  4.60281670e+05,  2.46145078e+05,\n",
      "        1.56871882e+05, -4.09590113e+04,  2.00961730e+05,  5.83085165e+05,\n",
      "       -1.29365541e+06,  7.46997349e+05, -1.09883791e+06,  6.59674261e+05,\n",
      "        3.15277789e+05,  5.54150799e+04,  5.75865771e+04, -7.44350048e+05,\n",
      "        6.35524423e+05, -1.24279970e+05,  3.27830329e+05, -9.93767041e+04,\n",
      "       -5.17771963e+04, -6.02216226e+05,  3.56871949e+05, -2.52737166e+05,\n",
      "       -5.60996283e+04,  3.17898780e+05,  1.16737456e+06, -1.69840494e+06,\n",
      "        5.92718868e+05,  8.10884612e+03, -1.57798014e+05,  1.73954702e+05,\n",
      "        6.47493558e+04, -1.74164365e+05,  6.46062846e+04]), array([ 2.23829752e-01,  1.34809765e+00,  3.40592349e-01, -1.02894006e-01,\n",
      "       -2.54634424e-01, -2.82424023e-01, -2.61183571e-01, -2.23425887e-01,\n",
      "       -1.83034845e-01, -1.45621045e-01, -1.13099583e-01, -8.57619459e-02,\n",
      "       -6.32283938e-02, -4.48860657e-02, -3.00860540e-02, -1.82264518e-02,\n",
      "       -8.78172594e-03, -1.30748931e-03,  4.56525908e-03,  9.13968630e-03,\n",
      "        1.26633331e-02,  1.53376163e-02,  1.73261269e-02,  1.87616336e-02,\n",
      "        1.97518770e-02,  2.03843085e-02,  2.07299394e-02,  2.08464559e-02,\n",
      "        2.07807348e-02,  2.05708750e-02,  2.02478381e-02,  1.98367750e-02,\n",
      "        1.93581001e-02,  1.88283618e-02,  1.82609505e-02,  1.76666738e-02,\n",
      "        1.70542266e-02,  1.64305739e-02,  1.58012646e-02,  1.51706886e-02,\n",
      "        1.45422876e-02,  1.39187281e-02,  1.33020443e-02,  1.26937551e-02,\n",
      "        1.20949606e-02,  1.15064223e-02,  1.09286283e-02,  1.03618476e-02,\n",
      "        9.80617465e-03,  9.26156626e-03,  8.72787175e-03]), array([ 3.15886783e-01,  1.00612064e+00,  3.33616417e-01,  5.83253587e-03,\n",
      "       -1.28870777e-01, -1.74256255e-01, -1.79596934e-01, -1.67785250e-01,\n",
      "       -1.49527742e-01, -1.29809313e-01, -1.10874143e-01, -9.36390270e-02,\n",
      "       -7.83805020e-02, -6.50748804e-02, -5.35678688e-02, -4.36587727e-02,\n",
      "       -3.51413031e-02, -2.78222102e-02, -2.15286491e-02, -1.61099355e-02,\n",
      "       -1.14366394e-02, -7.39854570e-03, -3.90225727e-03, -8.68823671e-04,\n",
      "        1.76843503e-03,  4.06584556e-03,  6.07103172e-03,  7.82431501e-03,\n",
      "        9.35989300e-03,  1.07068258e-02,  1.18898594e-02,  1.29301123e-02,\n",
      "        1.38456474e-02,  1.46519498e-02,  1.53623242e-02,  1.59882289e-02,\n",
      "        1.65395541e-02,  1.70248563e-02,  1.74515548e-02,  1.78260974e-02,\n",
      "        1.81541003e-02,  1.84404663e-02,  1.86894853e-02,  1.89049191e-02,\n",
      "        1.90900741e-02,  1.92478629e-02,  1.93808571e-02,  1.94913324e-02,\n",
      "        1.95813076e-02,  1.96525773e-02,  1.97067408e-02])]\n"
     ]
    }
   ],
   "source": [
    "print(ein)\n",
    "print(eout)"
   ]
  },
  {
   "cell_type": "code",
   "execution_count": null,
   "metadata": {},
   "outputs": [],
   "source": []
  }
 ],
 "metadata": {
  "kernelspec": {
   "display_name": "Python 3",
   "language": "python",
   "name": "python3"
  },
  "language_info": {
   "codemirror_mode": {
    "name": "ipython",
    "version": 3
   },
   "file_extension": ".py",
   "mimetype": "text/x-python",
   "name": "python",
   "nbconvert_exporter": "python",
   "pygments_lexer": "ipython3",
   "version": "3.6.3"
  }
 },
 "nbformat": 4,
 "nbformat_minor": 2
}
