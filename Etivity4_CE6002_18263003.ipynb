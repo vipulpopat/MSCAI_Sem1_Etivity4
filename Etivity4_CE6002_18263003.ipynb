{
 "cells": [
  {
   "cell_type": "markdown",
   "metadata": {},
   "source": [
    "Student Details\n",
    "\n",
    "Name: **Chelliah Kanthanathan**\n",
    "\n",
    "ID: **18263003**"
   ]
  },
  {
   "cell_type": "markdown",
   "metadata": {},
   "source": [
    "All necessary imports are provided. Please do not add further imports."
   ]
  },
  {
   "cell_type": "code",
   "execution_count": 2,
   "metadata": {},
   "outputs": [],
   "source": [
    "import matplotlib.pyplot as plt\n",
    "import numpy as np\n",
    "import random\n",
    "import math\n",
    "from sklearn.model_selection import train_test_split\n",
    "from sklearn import linear_model\n",
    "from sklearn.linear_model import LassoCV\n",
    "from sklearn.linear_model import RidgeCV\n",
    "from sklearn.linear_model import Lasso\n",
    "from sklearn.linear_model import Ridge\n",
    "from sklearn.linear_model import LinearRegression\n",
    "from sklearn.model_selection import KFold"
   ]
  },
  {
   "cell_type": "markdown",
   "metadata": {},
   "source": [
    "Below is the exact same data you used for the regression in E-tivity 3, but this time you know exactly what function generated the data"
   ]
  },
  {
   "cell_type": "code",
   "execution_count": 3,
   "metadata": {},
   "outputs": [
    {
     "data": {
      "image/png": "[encoded data removed]",
      "text/plain": [
       "<Figure size 432x288 with 1 Axes>"
      ]
     },
     "metadata": {
      "needs_background": "light"
     },
     "output_type": "display_data"
    }
   ],
   "source": [
    "def target(X):\n",
    "    #return: 0.5X^5-0.5X^3-4.25X^2+5.125X-0.4375\n",
    "    return 0.5*((X-.5)-10*(X-.5)**2-(X-.5)**3+X**5)+1\n",
    "\n",
    "points = 100\n",
    "X = np.linspace(0, 1, points) # 100 values between 0 and 100\n",
    "noise=np.random.random(points)/4\n",
    "y_nf = target(X) #noise free target\n",
    "y = y_nf+noise #noisy target\n",
    "orig_X = X\n",
    "plt.plot(X,y,'r.')\n",
    "plt.show()"
   ]
  },
  {
   "cell_type": "markdown",
   "metadata": {},
   "source": [
    "Below is an implementation of linear regression with regularization"
   ]
  },
  {
   "cell_type": "code",
   "execution_count": 4,
   "metadata": {},
   "outputs": [],
   "source": [
    "def weights_reg(X,y,l):\n",
    "    n = len(X)\n",
    "    m=X.T.dot(X)\n",
    "    return np.linalg.inv(m+l*np.identity(m.shape[0])).dot(X.T).dot(y)"
   ]
  },
  {
   "cell_type": "code",
   "execution_count": 5,
   "metadata": {},
   "outputs": [],
   "source": [
    "def lin_reg(w,X):\n",
    "    # Calculation of outputs given weights and data (X). Note that X needs to contain the bias of 1. \n",
    "    out=[]\n",
    "    for x in X:\n",
    "        out.append(w.T.dot(x))\n",
    "    return np.array(out)"
   ]
  },
  {
   "cell_type": "code",
   "execution_count": 6,
   "metadata": {},
   "outputs": [],
   "source": [
    "def calc_error(w,X,y):\n",
    "    # Calculate the error as the mean squared error\n",
    "    pred = lin_reg(w,X)\n",
    "    return math.sqrt((pred-np.array(y)).dot(pred-np.array(y))/len(X))"
   ]
  },
  {
   "cell_type": "markdown",
   "metadata": {},
   "source": [
    "To create higher order features:"
   ]
  },
  {
   "cell_type": "code",
   "execution_count": 7,
   "metadata": {},
   "outputs": [],
   "source": [
    "def transPoly(X, power):\n",
    "    # Extend the data in X with a bias (1) and powers of the feature up to 'power'\n",
    "    ones = np.ones((X.shape[0],1))\n",
    "    extra=[]\n",
    "    for x in X:\n",
    "        row=[]\n",
    "        for p in range(2,power+1):\n",
    "            row.append(x**p)\n",
    "        extra.append(row)\n",
    "    return np.concatenate((ones, X.reshape(len(X),1),np.array(extra)),1)"
   ]
  },
  {
   "cell_type": "markdown",
   "metadata": {},
   "source": [
    "Iterate over lambda, train the model and calculate Eout. Plot the latter versus lambda to see how much regularization is required."
   ]
  },
  {
   "cell_type": "code",
   "execution_count": 12,
   "metadata": {},
   "outputs": [],
   "source": [
    "ein=[]\n",
    "eout=[]\n",
    "weights=[]\n",
    "#lambdas = np.linspace(0.001,1, 1000)\n",
    "#lambdas = [10,5,2,1,0.9,0.8,0.7,0.6, 0.5,0.4,0.3,0.2,.1,0.01,.001]\n",
    "lambdas = np.arange(0,1,0.001)\n",
    "X_trans = transPoly(X,50)\n",
    "# random_state fixed to get reproducible (and 'good'! :-)) results\n",
    "X_train, X_test, y_train, y_test = train_test_split(X_trans, y, train_size=0.9, random_state =5)\n",
    "for l in lambdas:    \n",
    "    w = weights_reg(X_train,y_train,l)\n",
    "    ein.append(calc_error(w,X_train,y_train))\n",
    "    eout.append(calc_error(w,X_test,y_test))\n",
    "    weights.append(w)"
   ]
  },
  {
   "cell_type": "code",
   "execution_count": 13,
   "metadata": {},
   "outputs": [
    {
     "data": {
      "image/png": "[encoded data removed]",
      "text/plain": [
       "<Figure size 432x288 with 1 Axes>"
      ]
     },
     "metadata": {
      "needs_background": "light"
     },
     "output_type": "display_data"
    }
   ],
   "source": [
    "plt.plot(lambdas[1:],eout[1:],'b.')\n",
    "plt.title('Eout vs Lambda')\n",
    "plt.xlabel('Lambdas')\n",
    "plt.ylabel('Eout')\n",
    "plt.xscale('log')\n",
    "plt.show()"
   ]
  },
  {
   "cell_type": "markdown",
   "metadata": {},
   "source": [
    "#### It is evident that as lambda increases the in and out of sample errors increase. We need to find the sweet spot where as the  lambda does not result in overfitting or underfitting."
   ]
  },
  {
   "cell_type": "code",
   "execution_count": 14,
   "metadata": {},
   "outputs": [
    {
     "data": {
      "image/png": "[encoded data removed]",
      "text/plain": [
       "<Figure size 432x288 with 1 Axes>"
      ]
     },
     "metadata": {
      "needs_background": "light"
     },
     "output_type": "display_data"
    }
   ],
   "source": [
    "plt.plot(lambdas,weights,'g.')\n",
    "plt.show()"
   ]
  },
  {
   "cell_type": "markdown",
   "metadata": {},
   "source": [
    "#### Above plot confirms that as lambda increases the weight coefficient increases as well, In a way it shows that the regularization penalty is evident when lambda is near zero i.e. near zero does not make much difference in weight coefficient"
   ]
  },
  {
   "cell_type": "markdown",
   "metadata": {},
   "source": [
    "### Find Optimal Lambda"
   ]
  },
  {
   "cell_type": "code",
   "execution_count": 15,
   "metadata": {},
   "outputs": [
    {
     "name": "stdout",
     "output_type": "stream",
     "text": [
      "Min_Eout_Index: 2\n",
      "OPTIMAL LAMBDA: 0.002\n"
     ]
    }
   ],
   "source": [
    "min_eout_index = np.argmin(eout)\n",
    "print (\"Min_Eout_Index:\", min_eout_index)\n",
    "optimal_lambda = lambdas[min_eout_index]\n",
    "print (\"OPTIMAL LAMBDA:\",optimal_lambda)"
   ]
  },
  {
   "cell_type": "markdown",
   "metadata": {},
   "source": [
    "### Task 4.1 - Compare the Eout obtained with this l with the Eout obtained without regularization. You should see an impressive improvement!"
   ]
  },
  {
   "cell_type": "code",
   "execution_count": 16,
   "metadata": {},
   "outputs": [
    {
     "name": "stdout",
     "output_type": "stream",
     "text": [
      "Eout with optimal lambda: 0.07367945668804768\n",
      "Eout with out regularization: 3.6551017400426766\n"
     ]
    }
   ],
   "source": [
    "print('Eout with optimal lambda:',  eout[min_eout_index])\n",
    "print('Eout with out regularization:',  eout[0])"
   ]
  },
  {
   "cell_type": "markdown",
   "metadata": {},
   "source": [
    "#### It is obvious from above eout output that with out regularization the error is very high. This proves that regularization results in better lower error on prediction."
   ]
  },
  {
   "cell_type": "markdown",
   "metadata": {},
   "source": [
    "### Task 4.2 A plot showing the estimate of Eout vs lambda on the domain [0,1]\n"
   ]
  },
  {
   "cell_type": "code",
   "execution_count": 17,
   "metadata": {},
   "outputs": [
    {
     "data": {
      "image/png": "[encoded data removed]",
      "text/plain": [
       "<Figure size 432x288 with 1 Axes>"
      ]
     },
     "metadata": {
      "needs_background": "light"
     },
     "output_type": "display_data"
    }
   ],
   "source": [
    "plt.plot(lambdas[0],eout[0],'b.')\n",
    "plt.plot(lambdas[1:],eout[1:],'g.')\n",
    "plt.title('Eout vs Lambda')\n",
    "plt.xlabel('Lambdas')\n",
    "plt.ylabel('Eout')\n",
    "plt.show()"
   ]
  },
  {
   "cell_type": "markdown",
   "metadata": {},
   "source": [
    "#### Above plot concludes that eout without regularization resulted in high error around 3.6 where as with the regularization it resulted in low error near zero..."
   ]
  },
  {
   "cell_type": "markdown",
   "metadata": {},
   "source": [
    "### Task 4.2 A plot with three sub-plots containing an overfitted model, a model with the optimal l, and an underfitted model. In each plot, you should plot the target function in addition to the final hypothesis. Choose values for l that clearly demonstrate over- and underfitting."
   ]
  },
  {
   "cell_type": "code",
   "execution_count": 40,
   "metadata": {},
   "outputs": [],
   "source": [
    " def calc_prediction(weights, X): \n",
    "    # Used code from Michel for plotting..Credit goes to him for plotting\n",
    "    h = weights[0]\n",
    "    for i in np.arange(1, len(weights)):\n",
    "        h += weights[i]*X ** i    \n",
    "    return h "
   ]
  },
  {
   "cell_type": "code",
   "execution_count": 43,
   "metadata": {},
   "outputs": [],
   "source": [
    "def demonstrate_overfitting_and_underfitting(X,y,l):\n",
    "    ein=[]\n",
    "    eout=[]\n",
    "    pred=[]\n",
    "\n",
    "    X_trans = transPoly(X,50)\n",
    "    # random_state fixed to get reproducible (and 'good'! :-)) results\n",
    "    X_train, X_test, y_train, y_test = train_test_split(X_trans, y, train_size=0.9, random_state =5)\n",
    "   \n",
    "    w = weights_reg(X_train,y_train,l)\n",
    "    ein.append(calc_error(w,X_train,y_train))\n",
    "    eout.append(calc_error(w,X_test,y_test))\n",
    "    print (w)\n",
    "    pred=calc_prediction(w,X)\n",
    "    \n",
    "    plt.plot(X, y, 'r.')\n",
    "    plt.plot(X, pred , 'b-')\n",
    "    plt.show()"
   ]
  },
  {
   "cell_type": "code",
   "execution_count": 45,
   "metadata": {},
   "outputs": [
    {
     "name": "stdout",
     "output_type": "stream",
     "text": [
      "[ 9.76511293e+00 -8.80276927e+02  1.28583030e+04 -7.48375743e+04\n",
      "  1.63102949e+05  4.09911891e+05 -4.05446105e+06  1.41367674e+07\n",
      " -3.02620944e+07  4.46042044e+07 -4.59727698e+07  2.94272326e+07\n",
      " -5.72115759e+06 -5.08387095e+06  5.81427188e+05  3.52715653e+06\n",
      " -2.21144581e+06 -5.88877964e+05  1.59853332e+06  1.00158721e+05\n",
      "  2.28841986e+06 -3.11060152e+06 -2.00570409e+06  7.33317537e+05\n",
      "  5.66671911e+05  2.01434140e+06 -9.18905472e+05  2.53401122e+05\n",
      "  8.91286862e+05 -1.62279622e+06  2.21226823e+06 -2.06355525e+06\n",
      "  5.50272743e+05 -2.89005957e+06  9.66125508e+05 -5.06896529e+05\n",
      "  2.84194032e+06  1.06555695e+06  3.78765341e+05 -2.08441367e+06\n",
      " -6.40162217e+05  1.20002895e+06 -2.43309697e+06  1.35324280e+06\n",
      "  7.16619593e+05 -3.90273616e+05 -1.89054125e+05  1.06478317e+06\n",
      " -1.66889359e+06  1.22452669e+06 -3.88122809e+05]\n"
     ]
    },
    {
     "data": {
      "image/png": "[encoded data removed]",
      "text/plain": [
       "<Figure size 432x288 with 1 Axes>"
      ]
     },
     "metadata": {
      "needs_background": "light"
     },
     "output_type": "display_data"
    }
   ],
   "source": [
    "demonstrate_overfitting_and_underfitting(X,y,0)"
   ]
  },
  {
   "cell_type": "code",
   "execution_count": 46,
   "metadata": {},
   "outputs": [
    {
     "name": "stdout",
     "output_type": "stream",
     "text": [
      "[-2.95358259e-01  4.65265732e+00 -2.79743780e+00 -1.82818554e+00\n",
      " -2.69129435e-01  4.91124892e-01  6.29452315e-01  4.76388027e-01\n",
      "  2.45763701e-01  3.98749842e-02 -1.06223196e-01 -1.90713188e-01\n",
      " -2.25128784e-01 -2.24217642e-01 -2.01424327e-01 -1.67311859e-01\n",
      " -1.29386841e-01 -9.25101209e-02 -5.94832966e-02 -3.16220771e-02\n",
      " -9.24170050e-03  7.96432237e-03  2.06455723e-02  2.96000607e-02\n",
      "  3.56454901e-02  3.95398647e-02  4.19375967e-02  4.33701615e-02\n",
      "  4.42429921e-02  4.48425040e-02  4.53488959e-02  4.58517117e-02\n",
      "  4.63661559e-02  4.68488837e-02  4.72125095e-02  4.73384384e-02\n",
      "  4.70878682e-02  4.63109709e-02  4.48543555e-02  4.25669719e-02\n",
      "  3.93046398e-02  3.49333935e-02  2.93318256e-02  2.23926031e-02\n",
      "  1.40233086e-02  4.14674314e-03 -7.29919037e-03 -2.03619261e-02\n",
      " -3.50749101e-02 -5.14584433e-02 -6.95206360e-02]\n"
     ]
    },
    {
     "data": {
      "image/png": "[encoded data removed]",
      "text/plain": [
       "<Figure size 432x288 with 1 Axes>"
      ]
     },
     "metadata": {
      "needs_background": "light"
     },
     "output_type": "display_data"
    }
   ],
   "source": [
    "demonstrate_overfitting_and_underfitting(X,y,optimal_lambda)"
   ]
  },
  {
   "cell_type": "code",
   "execution_count": 49,
   "metadata": {},
   "outputs": [
    {
     "name": "stdout",
     "output_type": "stream",
     "text": [
      "[ 4.38128289e-01  4.79614965e-01  2.26208785e-01  8.72478740e-02\n",
      "  1.51875930e-02 -2.22342148e-02 -4.13468312e-02 -5.04686449e-02\n",
      " -5.40023113e-02 -5.43691045e-02 -5.29446467e-02 -5.05307535e-02\n",
      " -4.76034944e-02 -4.44486419e-02 -4.12381417e-02 -3.80745599e-02\n",
      " -3.50175716e-02 -3.21000892e-02 -2.93382604e-02 -2.67377569e-02\n",
      " -2.42977770e-02 -2.20136125e-02 -1.98783029e-02 -1.78837014e-02\n",
      " -1.60211593e-02 -1.42819585e-02 -1.26575808e-02 -1.11398678e-02\n",
      " -9.72110917e-03 -8.39408483e-03 -7.15207668e-03 -5.98886117e-03\n",
      " -4.89869039e-03 -3.87626641e-03 -2.91671219e-03 -2.01554133e-03\n",
      " -1.16862787e-03 -3.72177181e-04  3.77301714e-04  1.08302195e-03\n",
      "  1.74794280e-03  2.37479170e-03  2.96608444e-03  3.52414358e-03\n",
      "  4.05111521e-03  4.54898416e-03  5.01958785e-03  5.46462878e-03\n",
      "  5.88568597e-03  6.28422518e-03  6.66160832e-03]\n"
     ]
    },
    {
     "data": {
      "image/png": "[encoded data removed]",
      "text/plain": [
       "<Figure size 432x288 with 1 Axes>"
      ]
     },
     "metadata": {
      "needs_background": "light"
     },
     "output_type": "display_data"
    }
   ],
   "source": [
    "demonstrate_overfitting_and_underfitting(X,y,10)"
   ]
  },
  {
   "cell_type": "markdown",
   "metadata": {},
   "source": [
    "### Task 5: Perform the same analysis using 10-fold cross-validation. Use Scikitlearn’s KFOLD for this and think carefully about the parameters you use in KFOLD. Note that the data set provided is ordered by increasing X."
   ]
  },
  {
   "cell_type": "code",
   "execution_count": 66,
   "metadata": {},
   "outputs": [],
   "source": [
    "# Cross validate on list of lambdas\n",
    "def demonstrate_cross_validation(X,y,lambdas,num_folds=10):\n",
    "    overall_eout=[]\n",
    "    \n",
    "    X_trans = transPoly(X,50)\n",
    "    \n",
    "    for lambd in lambdas:\n",
    "        print(\"\\nLambda: \",lambd)\n",
    "        ein=[]\n",
    "        eout=[]\n",
    "        average_eout=[]\n",
    "        \n",
    "        # Split data into training and test data sets\n",
    "        kf = KFold(n_splits=num_folds, shuffle=True,random_state = 5)\n",
    "\n",
    "        # random_state fixed to get reproducible (and 'good'! :-)) results\n",
    "        fold = 1\n",
    "        for train_index, test_index in kf.split(X_trans):\n",
    "            # Training data\n",
    "            X_train_CV = X_trans[train_index]\n",
    "            y_train_CV = y[train_index]\n",
    "    \n",
    "            # Testing data\n",
    "            X_test_CV = X_trans[test_index]\n",
    "            y_test_CV = y[test_index]\n",
    "   \n",
    "            w = weights_reg(X_train_CV,y_train_CV,lambd)\n",
    "            ein.append(calc_error(w,X_train_CV,y_train_CV))\n",
    "            local_eout = calc_error(w,X_test_CV,y_test_CV)\n",
    "            eout.append(local_eout)\n",
    "            print(\"K-Fold:\", fold, \", Eout: \", local_eout)\n",
    "            fold += 1\n",
    "        \n",
    "        average_eout = np.mean(eout)\n",
    "        print(\"Average Eout: \",average_eout)\n",
    "        overall_eout.append(average_eout)\n",
    "    \n",
    "    min_overall_eout_index = np.argmin(overall_eout)\n",
    "    print (\"min_overall_eout_index:\", min_overall_eout_index)\n",
    "    optimal_lambda_CV = lambdas[min_overall_eout_index]\n",
    "    print (\"\\n\\nOPTIMAL LAMBDA using K-Fold cross validation: {}\".format(optimal_lambda_CV))"
   ]
  },
  {
   "cell_type": "code",
   "execution_count": 67,
   "metadata": {},
   "outputs": [
    {
     "name": "stdout",
     "output_type": "stream",
     "text": [
      "\n",
      "Lambda:  1\n",
      "K-Fold: 1 , Eout:  0.18355355621673222\n",
      "K-Fold: 2 , Eout:  0.1599280224625318\n",
      "K-Fold: 3 , Eout:  0.09791701081673398\n",
      "K-Fold: 4 , Eout:  0.1957132819797012\n",
      "K-Fold: 5 , Eout:  0.19255644055006574\n",
      "K-Fold: 6 , Eout:  0.1164623356372406\n",
      "K-Fold: 7 , Eout:  0.33183929843172233\n",
      "K-Fold: 8 , Eout:  0.25926188391535554\n",
      "K-Fold: 9 , Eout:  0.1515735385219184\n",
      "K-Fold: 10 , Eout:  0.1516857879101191\n",
      "Average Eout:  0.18404911564421206\n",
      "\n",
      "Lambda:  0.1\n",
      "K-Fold: 1 , Eout:  0.11917969412623375\n",
      "K-Fold: 2 , Eout:  0.08754391676885093\n",
      "K-Fold: 3 , Eout:  0.0813889599203217\n",
      "K-Fold: 4 , Eout:  0.1106520441850909\n",
      "K-Fold: 5 , Eout:  0.09166573379198417\n",
      "K-Fold: 6 , Eout:  0.053558887086177814\n",
      "K-Fold: 7 , Eout:  0.17730508247935053\n",
      "K-Fold: 8 , Eout:  0.12885470972883156\n",
      "K-Fold: 9 , Eout:  0.09665424558641554\n",
      "K-Fold: 10 , Eout:  0.09832633089242644\n",
      "Average Eout:  0.10451296045656835\n",
      "\n",
      "Lambda:  0.01\n",
      "K-Fold: 1 , Eout:  0.07912224559580043\n",
      "K-Fold: 2 , Eout:  0.06986930154681223\n",
      "K-Fold: 3 , Eout:  0.061545887252428454\n",
      "K-Fold: 4 , Eout:  0.08192645283235371\n",
      "K-Fold: 5 , Eout:  0.059332341477806506\n",
      "K-Fold: 6 , Eout:  0.049302289106747915\n",
      "K-Fold: 7 , Eout:  0.09099739830425053\n",
      "K-Fold: 8 , Eout:  0.07331629373727551\n",
      "K-Fold: 9 , Eout:  0.09632541387411454\n",
      "K-Fold: 10 , Eout:  0.0835112641606477\n",
      "Average Eout:  0.07452488878882375\n",
      "\n",
      "Lambda:  0.001\n",
      "K-Fold: 1 , Eout:  0.07396029858755661\n",
      "K-Fold: 2 , Eout:  0.07002420651093895\n",
      "K-Fold: 3 , Eout:  0.05111558357966081\n",
      "K-Fold: 4 , Eout:  0.07394143795881686\n",
      "K-Fold: 5 , Eout:  0.06301427962979886\n",
      "K-Fold: 6 , Eout:  0.05066464708008557\n",
      "K-Fold: 7 , Eout:  0.07297393468463356\n",
      "K-Fold: 8 , Eout:  0.06982196736026383\n",
      "K-Fold: 9 , Eout:  0.09293520759602841\n",
      "K-Fold: 10 , Eout:  0.0726240928153483\n",
      "Average Eout:  0.06910756558031317\n",
      "\n",
      "Lambda:  0.0001\n",
      "K-Fold: 1 , Eout:  0.07595796920101246\n",
      "K-Fold: 2 , Eout:  0.07276497651553203\n",
      "K-Fold: 3 , Eout:  0.05062539373394139\n",
      "K-Fold: 4 , Eout:  0.07189552654141151\n",
      "K-Fold: 5 , Eout:  0.06570613479107242\n",
      "K-Fold: 6 , Eout:  0.05010791113199486\n",
      "K-Fold: 7 , Eout:  0.07141983616609107\n",
      "K-Fold: 8 , Eout:  0.07110897429621385\n",
      "K-Fold: 9 , Eout:  0.09070539016289846\n",
      "K-Fold: 10 , Eout:  0.07452872264799155\n",
      "Average Eout:  0.06948208351881598\n",
      "\n",
      "Lambda:  1e-05\n",
      "K-Fold: 1 , Eout:  0.07681677215284624\n",
      "K-Fold: 2 , Eout:  0.07575404418350119\n",
      "K-Fold: 3 , Eout:  0.05214261855924772\n",
      "K-Fold: 4 , Eout:  0.07230571668005746\n",
      "K-Fold: 5 , Eout:  0.06532022725315734\n",
      "K-Fold: 6 , Eout:  0.048722318424225\n",
      "K-Fold: 7 , Eout:  0.07139651548166072\n",
      "K-Fold: 8 , Eout:  0.0692560263348009\n",
      "K-Fold: 9 , Eout:  0.08853301515636113\n",
      "K-Fold: 10 , Eout:  0.06708829329488654\n",
      "Average Eout:  0.06873355475207442\n",
      "\n",
      "Lambda:  1e-06\n",
      "K-Fold: 1 , Eout:  0.076378829168897\n",
      "K-Fold: 2 , Eout:  0.07988304126260456\n",
      "K-Fold: 3 , Eout:  0.05376466180896915\n",
      "K-Fold: 4 , Eout:  0.07386655877258354\n",
      "K-Fold: 5 , Eout:  0.06493319773472857\n",
      "K-Fold: 6 , Eout:  0.05230852993280001\n",
      "K-Fold: 7 , Eout:  0.07026973863811606\n",
      "K-Fold: 8 , Eout:  0.06596615851563571\n",
      "K-Fold: 9 , Eout:  0.08611846159821424\n",
      "K-Fold: 10 , Eout:  0.07573153674032203\n",
      "Average Eout:  0.0699220714172871\n",
      "min_overall_eout_index: 5\n",
      "\n",
      "\n",
      "OPTIMAL LAMBDA using K-Fold cross validation: 1e-05\n"
     ]
    }
   ],
   "source": [
    "lambdas_cv = [1, 0.1, 0.01, 0.001, 0.0001, 0.00001, 0.000001]\n",
    "demonstrate_cross_validation(X,y,lambdas_cv)"
   ]
  },
  {
   "cell_type": "markdown",
   "metadata": {},
   "source": [
    "### Task 6 - Use scikit-learn’s RidgeCV and LassoCV to obtain optimum l using the same transformed data (i.e. features up to 50th order).Observe the resulting Eout, and l compare these to previous results. What do you see? Is this what you expected? Compare the weights obtained with RidgeCV to those obtained with LassoCV. What do you see? Is this what you expected?"
   ]
  },
  {
   "cell_type": "code",
   "execution_count": null,
   "metadata": {},
   "outputs": [],
   "source": []
  },
  {
   "cell_type": "code",
   "execution_count": null,
   "metadata": {},
   "outputs": [],
   "source": []
  },
  {
   "cell_type": "code",
   "execution_count": null,
   "metadata": {},
   "outputs": [],
   "source": []
  }
 ],
 "metadata": {
  "kernelspec": {
   "display_name": "Python 3",
   "language": "python",
   "name": "python3"
  },
  "language_info": {
   "codemirror_mode": {
    "name": "ipython",
    "version": 3
   },
   "file_extension": ".py",
   "mimetype": "text/x-python",
   "name": "python",
   "nbconvert_exporter": "python",
   "pygments_lexer": "ipython3",
   "version": "3.7.1"
  }
 },
 "nbformat": 4,
 "nbformat_minor": 2
}
