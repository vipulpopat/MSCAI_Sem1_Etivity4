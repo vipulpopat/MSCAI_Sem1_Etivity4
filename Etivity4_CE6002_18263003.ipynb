{
 "cells": [
  {
   "cell_type": "markdown",
   "metadata": {},
   "source": [
    "Student Details:\n",
    "\n",
    "Name: **Chelliah Kanthanathan**\n",
    "\n",
    "ID: **18263003**"
   ]
  },
  {
   "cell_type": "markdown",
   "metadata": {},
   "source": [
    "All necessary imports are provided. Please do not add further imports."
   ]
  },
  {
   "cell_type": "code",
   "execution_count": 1,
   "metadata": {},
   "outputs": [],
   "source": [
    "import warnings\n",
    "warnings.filterwarnings('ignore')\n",
    "import matplotlib.pyplot as plt\n",
    "import numpy as np\n",
    "import random\n",
    "import math\n",
    "from sklearn.model_selection import train_test_split\n",
    "from sklearn import linear_model\n",
    "from sklearn.linear_model import LassoCV\n",
    "from sklearn.linear_model import RidgeCV\n",
    "from sklearn.linear_model import Lasso\n",
    "from sklearn.linear_model import Ridge\n",
    "from sklearn.linear_model import LinearRegression\n",
    "from sklearn.model_selection import KFold"
   ]
  },
  {
   "cell_type": "markdown",
   "metadata": {},
   "source": [
    "Below is the exact same data you used for the regression in E-tivity 3, but this time you know exactly what function generated the data"
   ]
  },
  {
   "cell_type": "code",
   "execution_count": 2,
   "metadata": {},
   "outputs": [
    {
     "data": {
      "image/png": "[encoded data removed]",
      "text/plain": [
       "<Figure size 432x288 with 1 Axes>"
      ]
     },
     "metadata": {
      "needs_background": "light"
     },
     "output_type": "display_data"
    }
   ],
   "source": [
    "def target(X):\n",
    "    #return: 0.5X^5-0.5X^3-4.25X^2+5.125X-0.4375\n",
    "    return 0.5*((X-.5)-10*(X-.5)**2-(X-.5)**3+X**5)+1\n",
    "\n",
    "points = 100\n",
    "X = np.linspace(0, 1, points) # 100 values between 0 and 100\n",
    "noise=np.random.random(points)/4\n",
    "y_nf = target(X) #noise free target\n",
    "y = y_nf+noise #noisy target\n",
    "orig_X = X\n",
    "plt.plot(X,y,'r.')\n",
    "plt.show()"
   ]
  },
  {
   "cell_type": "markdown",
   "metadata": {},
   "source": [
    "Below is an implementation of linear regression with regularization"
   ]
  },
  {
   "cell_type": "code",
   "execution_count": 3,
   "metadata": {},
   "outputs": [],
   "source": [
    "def weights_reg(X,y,l):\n",
    "    n = len(X)\n",
    "    m=X.T.dot(X)\n",
    "    return np.linalg.inv(m+l*np.identity(m.shape[0])).dot(X.T).dot(y)"
   ]
  },
  {
   "cell_type": "code",
   "execution_count": 4,
   "metadata": {},
   "outputs": [],
   "source": [
    "def lin_reg(w,X):\n",
    "    # Calculation of outputs given weights and data (X). Note that X needs to contain the bias of 1. \n",
    "    out=[]\n",
    "    for x in X:\n",
    "        out.append(w.T.dot(x))\n",
    "    return np.array(out)"
   ]
  },
  {
   "cell_type": "code",
   "execution_count": 5,
   "metadata": {},
   "outputs": [],
   "source": [
    "def calc_error(w,X,y):\n",
    "    # Calculate the error as the mean squared error\n",
    "    pred = lin_reg(w,X)\n",
    "    return math.sqrt((pred-np.array(y)).dot(pred-np.array(y))/len(X))"
   ]
  },
  {
   "cell_type": "code",
   "execution_count": 6,
   "metadata": {},
   "outputs": [],
   "source": [
    "def calc_eout(w,X,y,pred):\n",
    "    # Calculate the error as the mean squared error\n",
    "    return math.sqrt((pred-np.array(y)).dot(pred-np.array(y))/len(X))"
   ]
  },
  {
   "cell_type": "markdown",
   "metadata": {},
   "source": [
    "To create higher order features:"
   ]
  },
  {
   "cell_type": "code",
   "execution_count": 7,
   "metadata": {},
   "outputs": [],
   "source": [
    "def transPoly(X, power):\n",
    "    # Extend the data in X with a bias (1) and powers of the feature up to 'power'\n",
    "    ones = np.ones((X.shape[0],1))\n",
    "    extra=[]\n",
    "    for x in X:\n",
    "        row=[]\n",
    "        for p in range(2,power+1):\n",
    "            row.append(x**p)\n",
    "        extra.append(row)\n",
    "    return np.concatenate((ones, X.reshape(len(X),1),np.array(extra)),1)"
   ]
  },
  {
   "cell_type": "markdown",
   "metadata": {},
   "source": [
    "Iterate over lambda, train the model and calculate Eout. Plot the latter versus lambda to see how much regularization is required."
   ]
  },
  {
   "cell_type": "code",
   "execution_count": 8,
   "metadata": {},
   "outputs": [],
   "source": [
    "ein=[]\n",
    "eout=[]\n",
    "weights=[]\n",
    "#lambdas = np.linspace(0.001,1, 1000)\n",
    "#lambdas = [10,5,2,1,0.9,0.8,0.7,0.6, 0.5,0.4,0.3,0.2,.1,0.01,.001]\n",
    "lambdas = [1, 0.1, 0.01, 0.001, 0.0001, 0.00001, 0.000001] # 7 values\n",
    "#lambdas = np.arange(0,1,0.001) # 1000 values \n",
    "X_trans = transPoly(X,50)\n",
    "# random_state fixed to get reproducible (and 'good'! :-)) results\n",
    "X_train, X_test, y_train, y_test = train_test_split(X_trans, y, train_size=0.9, random_state =5)\n",
    "for l in lambdas:    \n",
    "    w = weights_reg(X_train,y_train,l)\n",
    "    ein.append(calc_error(w,X_train,y_train))\n",
    "    eout.append(calc_error(w,X_test,y_test))\n",
    "    weights.append(w)"
   ]
  },
  {
   "cell_type": "code",
   "execution_count": 9,
   "metadata": {},
   "outputs": [
    {
     "data": {
      "image/png": "[encoded data removed]",
      "text/plain": [
       "<Figure size 432x288 with 1 Axes>"
      ]
     },
     "metadata": {
      "needs_background": "light"
     },
     "output_type": "display_data"
    }
   ],
   "source": [
    "plt.plot(lambdas[1:],eout[1:],'b.')\n",
    "plt.title('Eout vs Lambda')\n",
    "plt.xlabel('Lambdas')\n",
    "plt.ylabel('Eout')\n",
    "plt.xscale('log')\n",
    "plt.show()"
   ]
  },
  {
   "cell_type": "markdown",
   "metadata": {},
   "source": [
    "#### It is obvious from plotting that as lambda increases the in and out of sample errors increase. We need to find the sweet spot where as the  lambda does not result in overfitting or underfitting."
   ]
  },
  {
   "cell_type": "code",
   "execution_count": 10,
   "metadata": {},
   "outputs": [
    {
     "data": {
      "image/png": "[encoded data removed]",
      "text/plain": [
       "<Figure size 432x288 with 1 Axes>"
      ]
     },
     "metadata": {
      "needs_background": "light"
     },
     "output_type": "display_data"
    }
   ],
   "source": [
    "plt.plot(lambdas,weights,'g.')\n",
    "plt.show()"
   ]
  },
  {
   "cell_type": "markdown",
   "metadata": {},
   "source": [
    "#### Above plot confirms that as lambda increases the weight coefficient gets closer to zero, In a way it shows that the regularization penalty is evident when lambda is near zero and when lambda is higher i.e. 1 then itdoes not make much difference in weight coefficient and it is nearly zero."
   ]
  },
  {
   "cell_type": "markdown",
   "metadata": {},
   "source": [
    "### Find Optimal Lambda"
   ]
  },
  {
   "cell_type": "code",
   "execution_count": 11,
   "metadata": {},
   "outputs": [
    {
     "name": "stdout",
     "output_type": "stream",
     "text": [
      "Min_Eout_Index: 3\n",
      "OPTIMAL LAMBDA: 0.001\n"
     ]
    }
   ],
   "source": [
    "min_eout_index = np.argmin(eout)\n",
    "print (\"Min_Eout_Index:\", min_eout_index)\n",
    "optimal_lambda = lambdas[min_eout_index]\n",
    "print (\"OPTIMAL LAMBDA:\",optimal_lambda)"
   ]
  },
  {
   "cell_type": "markdown",
   "metadata": {},
   "source": [
    "### Task 4.1 - Compare the Eout obtained with this l with the Eout obtained without regularization. You should see an impressive improvement!"
   ]
  },
  {
   "cell_type": "code",
   "execution_count": 12,
   "metadata": {},
   "outputs": [
    {
     "name": "stdout",
     "output_type": "stream",
     "text": [
      "Eout with optimal lambda: 0.058970188266013024\n",
      "Eout with out regularization: 0.1505083499221609\n"
     ]
    }
   ],
   "source": [
    "print('Eout with optimal lambda:',  eout[min_eout_index])\n",
    "print('Eout with out regularization:',  eout[0])"
   ]
  },
  {
   "cell_type": "markdown",
   "metadata": {},
   "source": [
    "#### It is obvious from above eout output that with out regularization the error is very high. This proves that regularization results in better lower error on prediction."
   ]
  },
  {
   "cell_type": "markdown",
   "metadata": {},
   "source": [
    "### Task 4.2 A plot showing the estimate of Eout vs lambda on the domain [0,1]\n"
   ]
  },
  {
   "cell_type": "code",
   "execution_count": 13,
   "metadata": {},
   "outputs": [
    {
     "data": {
      "image/png": "[encoded data removed]",
      "text/plain": [
       "<Figure size 432x288 with 1 Axes>"
      ]
     },
     "metadata": {
      "needs_background": "light"
     },
     "output_type": "display_data"
    }
   ],
   "source": [
    "plt.plot(lambdas[0],eout[0],'bx')\n",
    "plt.plot(lambdas[1:],eout[1:],'g-')\n",
    "plt.title('Eout vs Lambda')\n",
    "plt.xlabel('Lambdas')\n",
    "plt.ylabel('Eout')\n",
    "plt.show()"
   ]
  },
  {
   "cell_type": "markdown",
   "metadata": {},
   "source": [
    "#### Above plot concludes that eout without regularization resulted in high error blue X, where as with the regularization it resulted in low error green line.."
   ]
  },
  {
   "cell_type": "markdown",
   "metadata": {},
   "source": [
    "### Task 4.2 A plot with three sub-plots containing an overfitted model, a model with the optimal l, and an underfitted model. In each plot, you should plot the target function in addition to the final hypothesis. Choose values for l that clearly demonstrate over- and underfitting."
   ]
  },
  {
   "cell_type": "code",
   "execution_count": 14,
   "metadata": {},
   "outputs": [],
   "source": [
    " def calc_prediction(weights, X): \n",
    "    # Used code from Michel for plotting..Credit goes to him for plotting\n",
    "    h = weights[0]\n",
    "    for i in np.arange(1, len(weights)):\n",
    "        h += weights[i]*X ** i    \n",
    "    return h "
   ]
  },
  {
   "cell_type": "code",
   "execution_count": 15,
   "metadata": {},
   "outputs": [],
   "source": [
    "def demonstrate_overfitting_and_underfitting(X,y,l,label):\n",
    "    ein=[]\n",
    "    eout=[]\n",
    "    pred=[]\n",
    "\n",
    "    X_trans = transPoly(X,50)\n",
    "    # random_state fixed to get reproducible (and 'good'! :-)) results\n",
    "    X_train, X_test, y_train, y_test = train_test_split(X_trans, y, train_size=0.9, random_state =5)\n",
    "   \n",
    "    w = weights_reg(X_train,y_train,l)\n",
    "    ein.append(calc_error(w,X_train,y_train))\n",
    "    eout.append(calc_error(w,X_test,y_test))\n",
    "    print (w)\n",
    "    pred=calc_prediction(w,X)\n",
    "    \n",
    "    plt.plot(X, y, 'r.')\n",
    "    plt.plot(X, pred , 'b-')\n",
    "    title = 'Target function estimation for ' + label + ' and Lambda=' + str(l)\n",
    "    plt.title(title)\n",
    "    plt.show()"
   ]
  },
  {
   "cell_type": "code",
   "execution_count": 16,
   "metadata": {},
   "outputs": [
    {
     "name": "stdout",
     "output_type": "stream",
     "text": [
      "[ 1.00855228e+01 -9.08821853e+02  1.34694874e+04 -8.15260702e+04\n",
      "  2.06741080e+05  2.41470232e+05 -3.71799608e+06  1.40385921e+07\n",
      " -3.12420206e+07  4.64001709e+07 -4.66015248e+07  2.84862343e+07\n",
      " -5.46893011e+06 -4.25830601e+06 -1.22208683e+05  4.51347185e+06\n",
      " -3.39351828e+06  8.62670837e+05 -6.96743185e+04  8.53829994e+05\n",
      "  3.26630769e+05 -9.38754204e+05 -1.11911304e+06  6.53494475e+05\n",
      " -4.59088901e+04  6.21604651e+05  1.08324834e+05 -5.41062037e+04\n",
      "  2.62972328e+05 -7.40741768e+05  8.90797341e+05 -6.01785806e+05\n",
      "  1.66582101e+05 -8.42695317e+05  1.54923617e+05 -3.68494347e+05\n",
      "  1.18060704e+06  4.07995780e+05  7.56319542e+04 -8.05226648e+05\n",
      " -6.11976605e+05  8.56882505e+05 -8.53226154e+05  6.19914635e+05\n",
      " -4.06864695e+04  3.22758932e+05 -5.46995392e+04 -8.16659191e+04\n",
      " -3.92072014e+05  1.86059360e+05  5.59265666e+04]\n"
     ]
    },
    {
     "data": {
      "image/png": "[encoded data removed]",
      "text/plain": [
       "<Figure size 432x288 with 1 Axes>"
      ]
     },
     "metadata": {
      "needs_background": "light"
     },
     "output_type": "display_data"
    }
   ],
   "source": [
    "demonstrate_overfitting_and_underfitting(X,y,0,\"Overfitting\")"
   ]
  },
  {
   "cell_type": "code",
   "execution_count": 17,
   "metadata": {},
   "outputs": [
    {
     "name": "stdout",
     "output_type": "stream",
     "text": [
      "[-0.30131247  4.82299447 -3.12059353 -1.89737468 -0.05647323  0.70757123\n",
      "  0.72644451  0.44576669  0.1242695  -0.12755612 -0.2807967  -0.34375902\n",
      " -0.3379781  -0.28671068 -0.2101419  -0.12392213 -0.03921917  0.03663462\n",
      "  0.09934129  0.14687711  0.17884594  0.19596126  0.19964759  0.19174287\n",
      "  0.17428242  0.14934652  0.11895663  0.08500799  0.04922918  0.01316105\n",
      " -0.02185051 -0.05465231 -0.08427526 -0.10992177 -0.13095093 -0.14686266\n",
      " -0.15728161 -0.16194164 -0.16067099 -0.15337854 -0.14004127 -0.12069293\n",
      " -0.09541392 -0.06432239 -0.02756637  0.01468292  0.06223699  0.11489499\n",
      "  0.17244797  0.23468238  0.301383  ]\n"
     ]
    },
    {
     "data": {
      "image/png": "[encoded data removed]",
      "text/plain": [
       "<Figure size 432x288 with 1 Axes>"
      ]
     },
     "metadata": {
      "needs_background": "light"
     },
     "output_type": "display_data"
    }
   ],
   "source": [
    "demonstrate_overfitting_and_underfitting(X,y,optimal_lambda,\"Optimal Right Fit\")"
   ]
  },
  {
   "cell_type": "code",
   "execution_count": 18,
   "metadata": {},
   "outputs": [
    {
     "name": "stdout",
     "output_type": "stream",
     "text": [
      "[ 4.45239466e-01  4.80584182e-01  2.25839881e-01  8.69622038e-02\n",
      "  1.54157247e-02 -2.14442367e-02 -4.00726249e-02 -4.88239508e-02\n",
      " -5.21014938e-02 -5.23132784e-02 -5.08175707e-02 -4.83990990e-02\n",
      " -4.55188643e-02 -4.24500755e-02 -3.93545394e-02 -3.63268017e-02\n",
      " -3.34202741e-02 -3.06630171e-02 -2.80674388e-02 -2.56363374e-02\n",
      " -2.33667068e-02 -2.12521495e-02 -1.92844119e-02 -1.74543600e-02\n",
      " -1.57525932e-02 -1.41698263e-02 -1.26971171e-02 -1.13259972e-02\n",
      " -1.00485369e-02 -8.85736928e-03 -7.74568849e-03 -6.70723118e-03\n",
      " -5.73624906e-03 -4.82747621e-03 -3.97609437e-03 -3.17769786e-03\n",
      " -2.42825950e-03 -1.72409811e-03 -1.06184797e-03 -4.38430559e-04\n",
      "  1.48971571e-04  7.02938644e-04  1.22583545e-03  1.71983113e-03\n",
      "  2.18691714e-03  2.62892349e-03  3.04753344e-03  3.44429680e-03\n",
      "  3.82064190e-03  4.17788646e-03  4.51724733e-03]\n"
     ]
    },
    {
     "data": {
      "image/png": "[encoded data removed]",
      "text/plain": [
       "<Figure size 432x288 with 1 Axes>"
      ]
     },
     "metadata": {
      "needs_background": "light"
     },
     "output_type": "display_data"
    }
   ],
   "source": [
    "demonstrate_overfitting_and_underfitting(X,y,10,\"Underfitting\")"
   ]
  },
  {
   "cell_type": "markdown",
   "metadata": {},
   "source": [
    "### Task 5: Perform the same analysis using 10-fold cross-validation. Use Scikitlearn’s KFOLD for this and think carefully about the parameters you use in KFOLD. Note that the data set provided is ordered by increasing X."
   ]
  },
  {
   "cell_type": "code",
   "execution_count": 19,
   "metadata": {},
   "outputs": [],
   "source": [
    "# Cross validate on list of lambdas\n",
    "def demonstrate_cross_validation(X,y,lambdas,num_folds=10):\n",
    "    overall_eout=[]\n",
    "    \n",
    "    X_trans = transPoly(X,50)\n",
    "    \n",
    "    for lambd in lambdas:\n",
    "        print(\"\\nLambda: \",lambd)\n",
    "        ein=[]\n",
    "        eout=[]\n",
    "        average_eout=[]\n",
    "        \n",
    "        # Split data into training and test data sets\n",
    "        kf = KFold(n_splits=num_folds, shuffle=True,random_state = 5)\n",
    "\n",
    "        # random_state fixed to get reproducible (and 'good'! :-)) results\n",
    "        fold = 1\n",
    "        for train_index, test_index in kf.split(X_trans):\n",
    "            # Training data\n",
    "            X_train_CV = X_trans[train_index]\n",
    "            y_train_CV = y[train_index]\n",
    "    \n",
    "            # Testing data\n",
    "            X_test_CV = X_trans[test_index]\n",
    "            y_test_CV = y[test_index]\n",
    "   \n",
    "            w = weights_reg(X_train_CV,y_train_CV,lambd)\n",
    "            ein.append(calc_error(w,X_train_CV,y_train_CV))\n",
    "            local_eout = calc_error(w,X_test_CV,y_test_CV)\n",
    "            eout.append(local_eout)\n",
    "            print(\"K-Fold:\", fold, \", Eout: \", local_eout)\n",
    "            fold += 1\n",
    "        \n",
    "        average_eout = np.mean(eout)\n",
    "        print(\"Average Eout: \",average_eout)\n",
    "        overall_eout.append(average_eout)\n",
    "    \n",
    "    min_overall_eout_index = np.argmin(overall_eout)\n",
    "    overall_eout_kfold = overall_eout[min_overall_eout_index]\n",
    "    print (\"min_overall_eout_index:\", min_overall_eout_index)\n",
    "    optimal_lambda_CV = lambdas[min_overall_eout_index]\n",
    "    print (\"\\n\\nOPTIMAL LAMBDA using K-Fold cross validation: {}\".format(optimal_lambda_CV))\n",
    "    \n",
    "    return optimal_lambda_CV, overall_eout_kfold"
   ]
  },
  {
   "cell_type": "code",
   "execution_count": 20,
   "metadata": {},
   "outputs": [
    {
     "name": "stdout",
     "output_type": "stream",
     "text": [
      "\n",
      "Lambda:  1\n",
      "K-Fold: 1 , Eout:  0.150508349922161\n",
      "K-Fold: 2 , Eout:  0.15230042487554782\n",
      "K-Fold: 3 , Eout:  0.15735153545564412\n",
      "K-Fold: 4 , Eout:  0.18957816742626776\n",
      "K-Fold: 5 , Eout:  0.2179234184713283\n",
      "K-Fold: 6 , Eout:  0.10092241126023781\n",
      "K-Fold: 7 , Eout:  0.3221804357932467\n",
      "K-Fold: 8 , Eout:  0.2790363088886794\n",
      "K-Fold: 9 , Eout:  0.17504898357388282\n",
      "K-Fold: 10 , Eout:  0.12525104173736593\n",
      "Average Eout:  0.1870101077404362\n",
      "\n",
      "Lambda:  0.1\n",
      "K-Fold: 1 , Eout:  0.0859393116671081\n",
      "K-Fold: 2 , Eout:  0.10768409827573444\n",
      "K-Fold: 3 , Eout:  0.11744309009575564\n",
      "K-Fold: 4 , Eout:  0.09939360477584916\n",
      "K-Fold: 5 , Eout:  0.1138045658079353\n",
      "K-Fold: 6 , Eout:  0.06087963176795505\n",
      "K-Fold: 7 , Eout:  0.1742485769479556\n",
      "K-Fold: 8 , Eout:  0.14433128267259066\n",
      "K-Fold: 9 , Eout:  0.11485715996001619\n",
      "K-Fold: 10 , Eout:  0.10011238549947843\n",
      "Average Eout:  0.11186937074703787\n",
      "\n",
      "Lambda:  0.01\n",
      "K-Fold: 1 , Eout:  0.05972197357252715\n",
      "K-Fold: 2 , Eout:  0.08381775914753965\n",
      "K-Fold: 3 , Eout:  0.09781023509203593\n",
      "K-Fold: 4 , Eout:  0.08987118970593742\n",
      "K-Fold: 5 , Eout:  0.0848460863787168\n",
      "K-Fold: 6 , Eout:  0.061834425476679576\n",
      "K-Fold: 7 , Eout:  0.08834977177703937\n",
      "K-Fold: 8 , Eout:  0.09951681281388942\n",
      "K-Fold: 9 , Eout:  0.09700137129301435\n",
      "K-Fold: 10 , Eout:  0.07622797828713831\n",
      "Average Eout:  0.0838997603544518\n",
      "\n",
      "Lambda:  0.001\n",
      "K-Fold: 1 , Eout:  0.05897018826599795\n",
      "K-Fold: 2 , Eout:  0.07862551547643608\n",
      "K-Fold: 3 , Eout:  0.08962723983474319\n",
      "K-Fold: 4 , Eout:  0.0904999290858475\n",
      "K-Fold: 5 , Eout:  0.08809087556486817\n",
      "K-Fold: 6 , Eout:  0.061599977492921766\n",
      "K-Fold: 7 , Eout:  0.06610106082898021\n",
      "K-Fold: 8 , Eout:  0.09086835485831124\n",
      "K-Fold: 9 , Eout:  0.09681323505567072\n",
      "K-Fold: 10 , Eout:  0.09371886949154838\n",
      "Average Eout:  0.08149152459553252\n",
      "\n",
      "Lambda:  0.0001\n",
      "K-Fold: 1 , Eout:  0.059739177498528376\n",
      "K-Fold: 2 , Eout:  0.07939133728470506\n",
      "K-Fold: 3 , Eout:  0.08955257804581104\n",
      "K-Fold: 4 , Eout:  0.08934844643404648\n",
      "K-Fold: 5 , Eout:  0.09270752486790385\n",
      "K-Fold: 6 , Eout:  0.0586040617305939\n",
      "K-Fold: 7 , Eout:  0.06986647392213262\n",
      "K-Fold: 8 , Eout:  0.08859086948314425\n",
      "K-Fold: 9 , Eout:  0.09585363119609229\n",
      "K-Fold: 10 , Eout:  0.08964076089128588\n",
      "Average Eout:  0.08132948613542437\n",
      "\n",
      "Lambda:  1e-05\n",
      "K-Fold: 1 , Eout:  0.06052101622271212\n",
      "K-Fold: 2 , Eout:  0.08090831892797913\n",
      "K-Fold: 3 , Eout:  0.09057020526336877\n",
      "K-Fold: 4 , Eout:  0.08916192615595318\n",
      "K-Fold: 5 , Eout:  0.09428861484006251\n",
      "K-Fold: 6 , Eout:  0.05769706895847487\n",
      "K-Fold: 7 , Eout:  0.07106862892793853\n",
      "K-Fold: 8 , Eout:  0.08912880578619714\n",
      "K-Fold: 9 , Eout:  0.09676267305519387\n",
      "K-Fold: 10 , Eout:  0.09054635605402932\n",
      "Average Eout:  0.08206536141919094\n",
      "\n",
      "Lambda:  1e-06\n",
      "K-Fold: 1 , Eout:  0.06094004244657816\n",
      "K-Fold: 2 , Eout:  0.08184791100472885\n",
      "K-Fold: 3 , Eout:  0.09085836706155616\n",
      "K-Fold: 4 , Eout:  0.08955382448397572\n",
      "K-Fold: 5 , Eout:  0.0970624792830968\n",
      "K-Fold: 6 , Eout:  0.0581359345547059\n",
      "K-Fold: 7 , Eout:  0.07103346321431418\n",
      "K-Fold: 8 , Eout:  0.0917427701076893\n",
      "K-Fold: 9 , Eout:  0.09920203647769694\n",
      "K-Fold: 10 , Eout:  0.09567337215566178\n",
      "Average Eout:  0.08360502007900038\n",
      "min_overall_eout_index: 4\n",
      "\n",
      "\n",
      "OPTIMAL LAMBDA using K-Fold cross validation: 0.0001\n",
      "\n",
      "OPTIMAL LAMBDA without K-Fold cross validation: 0.001\n"
     ]
    }
   ],
   "source": [
    "lambdas_cv = [1, 0.1, 0.01, 0.001, 0.0001, 0.00001, 0.000001]\n",
    "optimal_lambda_CV_after_KFOLD, eout_kfold = demonstrate_cross_validation(X,y,lambdas_cv) # Using original lambdas with 1000 values results in kernel crash..\n",
    "\n",
    "print (\"\\nOPTIMAL LAMBDA without K-Fold cross validation: {}\".format(optimal_lambda))"
   ]
  },
  {
   "cell_type": "markdown",
   "metadata": {},
   "source": [
    "#### With K FOLD cross validation the optimal lambda is 0.0001 and with out K fold cross validation the optimal lambda is 0.001. Slight variation in finding optimal lambda between methods with or with out K Fold cross validation"
   ]
  },
  {
   "cell_type": "markdown",
   "metadata": {},
   "source": [
    "### Demonstrate overfitted model, a model with the optimal l, and an underfitted model after K fold CV"
   ]
  },
  {
   "cell_type": "code",
   "execution_count": 21,
   "metadata": {},
   "outputs": [
    {
     "name": "stdout",
     "output_type": "stream",
     "text": [
      "[ 1.00855228e+01 -9.08821853e+02  1.34694874e+04 -8.15260702e+04\n",
      "  2.06741080e+05  2.41470232e+05 -3.71799608e+06  1.40385921e+07\n",
      " -3.12420206e+07  4.64001709e+07 -4.66015248e+07  2.84862343e+07\n",
      " -5.46893011e+06 -4.25830601e+06 -1.22208683e+05  4.51347185e+06\n",
      " -3.39351828e+06  8.62670837e+05 -6.96743185e+04  8.53829994e+05\n",
      "  3.26630769e+05 -9.38754204e+05 -1.11911304e+06  6.53494475e+05\n",
      " -4.59088901e+04  6.21604651e+05  1.08324834e+05 -5.41062037e+04\n",
      "  2.62972328e+05 -7.40741768e+05  8.90797341e+05 -6.01785806e+05\n",
      "  1.66582101e+05 -8.42695317e+05  1.54923617e+05 -3.68494347e+05\n",
      "  1.18060704e+06  4.07995780e+05  7.56319542e+04 -8.05226648e+05\n",
      " -6.11976605e+05  8.56882505e+05 -8.53226154e+05  6.19914635e+05\n",
      " -4.06864695e+04  3.22758932e+05 -5.46995392e+04 -8.16659191e+04\n",
      " -3.92072014e+05  1.86059360e+05  5.59265666e+04]\n"
     ]
    },
    {
     "data": {
      "image/png": "[encoded data removed]",
      "text/plain": [
       "<Figure size 432x288 with 1 Axes>"
      ]
     },
     "metadata": {
      "needs_background": "light"
     },
     "output_type": "display_data"
    }
   ],
   "source": [
    "demonstrate_overfitting_and_underfitting(X,y,0,\"Overfitting\")"
   ]
  },
  {
   "cell_type": "code",
   "execution_count": 22,
   "metadata": {},
   "outputs": [
    {
     "name": "stdout",
     "output_type": "stream",
     "text": [
      "[-0.3167168   4.98184493 -3.09362966 -3.07818039  0.39366481  1.73147135\n",
      "  1.45228604  0.62583206 -0.15957133 -0.69191565 -0.9477641  -0.97777117\n",
      " -0.85103076 -0.63172217 -0.37129237 -0.10744358  0.13425801  0.3380342\n",
      "  0.4955875   0.60411067  0.66467185  0.68094865  0.65825856  0.60283011\n",
      "  0.52126565  0.42015481  0.30580546  0.18406537  0.06021353 -0.06109605\n",
      " -0.17585155 -0.28067237 -0.37277842 -0.44994652 -0.5104589  -0.55304786\n",
      " -0.57683949 -0.58129856 -0.56617609 -0.53146062 -0.47733367 -0.40412975\n",
      " -0.312301   -0.20238631 -0.0749847   0.06926717  0.22971397  0.40569717\n",
      "  0.59656763  0.80169551  1.02047788]\n"
     ]
    },
    {
     "data": {
      "image/png": "[encoded data removed]",
      "text/plain": [
       "<Figure size 432x288 with 1 Axes>"
      ]
     },
     "metadata": {
      "needs_background": "light"
     },
     "output_type": "display_data"
    }
   ],
   "source": [
    "demonstrate_overfitting_and_underfitting(X,y,optimal_lambda_CV_after_KFOLD,\"Optimal Right Fit\")"
   ]
  },
  {
   "cell_type": "code",
   "execution_count": 23,
   "metadata": {},
   "outputs": [
    {
     "name": "stdout",
     "output_type": "stream",
     "text": [
      "[ 4.45239466e-01  4.80584182e-01  2.25839881e-01  8.69622038e-02\n",
      "  1.54157247e-02 -2.14442367e-02 -4.00726249e-02 -4.88239508e-02\n",
      " -5.21014938e-02 -5.23132784e-02 -5.08175707e-02 -4.83990990e-02\n",
      " -4.55188643e-02 -4.24500755e-02 -3.93545394e-02 -3.63268017e-02\n",
      " -3.34202741e-02 -3.06630171e-02 -2.80674388e-02 -2.56363374e-02\n",
      " -2.33667068e-02 -2.12521495e-02 -1.92844119e-02 -1.74543600e-02\n",
      " -1.57525932e-02 -1.41698263e-02 -1.26971171e-02 -1.13259972e-02\n",
      " -1.00485369e-02 -8.85736928e-03 -7.74568849e-03 -6.70723118e-03\n",
      " -5.73624906e-03 -4.82747621e-03 -3.97609437e-03 -3.17769786e-03\n",
      " -2.42825950e-03 -1.72409811e-03 -1.06184797e-03 -4.38430559e-04\n",
      "  1.48971571e-04  7.02938644e-04  1.22583545e-03  1.71983113e-03\n",
      "  2.18691714e-03  2.62892349e-03  3.04753344e-03  3.44429680e-03\n",
      "  3.82064190e-03  4.17788646e-03  4.51724733e-03]\n"
     ]
    },
    {
     "data": {
      "image/png": "[encoded data removed]",
      "text/plain": [
       "<Figure size 432x288 with 1 Axes>"
      ]
     },
     "metadata": {
      "needs_background": "light"
     },
     "output_type": "display_data"
    }
   ],
   "source": [
    "demonstrate_overfitting_and_underfitting(X,y,10,\"Underfitting\")"
   ]
  },
  {
   "cell_type": "markdown",
   "metadata": {},
   "source": [
    "### Task 6 - Use scikit-learn’s RidgeCV and LassoCV to obtain optimum l using the same transformed data (i.e. features up to 50th order).Observe the resulting Eout, and l compare these to previous results. What do you see? Is this what you expected? Compare the weights obtained with RidgeCV to those obtained with LassoCV. What do you see? Is this what you expected?"
   ]
  },
  {
   "cell_type": "markdown",
   "metadata": {},
   "source": [
    "### RidgeCV performs L2 regularization"
   ]
  },
  {
   "cell_type": "code",
   "execution_count": 24,
   "metadata": {},
   "outputs": [
    {
     "name": "stdout",
     "output_type": "stream",
     "text": [
      "\n",
      "regularization parameter 0.01\n",
      "\n",
      "score : 0.9618263465515632\n",
      "\n",
      "eout : 0.07695832377473873\n",
      "\n",
      "weight vector : [ 0.00000000e+00  4.05199340e+00 -1.63448569e+00 -1.63515146e+00\n",
      " -7.64295213e-01 -1.38446564e-01  1.73941460e-01  2.81291363e-01\n",
      "  2.80154353e-01  2.31445339e-01  1.68672800e-01  1.08344256e-01\n",
      "  5.73749347e-02  1.76386700e-02 -1.14225438e-02 -3.13729744e-02\n",
      " -4.40431027e-02 -5.11729584e-02 -5.42629725e-02 -5.45325896e-02\n",
      " -5.29312909e-02 -5.01720821e-02 -4.67718014e-02 -4.30905279e-02\n",
      " -3.93666775e-02 -3.57466383e-02 -3.23089371e-02 -2.90834489e-02\n",
      " -2.60663516e-02 -2.32315566e-02 -2.05392858e-02 -1.79423841e-02\n",
      " -1.53908602e-02 -1.28350600e-02 -1.02278001e-02 -7.52571900e-03\n",
      " -4.69005154e-03 -1.68698419e-03  1.51228686e-03  4.93170159e-03\n",
      "  8.59061596e-03  1.25041636e-02  1.66836610e-02  2.11370290e-02\n",
      "  2.58692106e-02  3.08825729e-02  3.61772837e-02  4.17516590e-02\n",
      "  4.76024771e-02  5.37252610e-02  6.01145273e-02]\n"
     ]
    }
   ],
   "source": [
    "lambdas_RCV = np.arange(0, 1, 0.001)\n",
    "#alpha = lambdas_RCV # 1000 values\n",
    "alpha = lambdas # 7 values\n",
    "fold = 10 # used 10 folds to compare cross validation with Task 5\n",
    "\n",
    "clf_RCV = RidgeCV(alphas=alpha, cv=fold) #, normalize=True) # Try normalize\n",
    "\n",
    "# Fit the Data\n",
    "clf_RCV.fit(X_trans, y)\n",
    "\n",
    "# Score and Prediction\n",
    "score_RCV = clf_RCV.score(X_trans,y) \n",
    "predictions_RCV = clf_RCV.predict(X_trans)\n",
    "\n",
    "# Calculate Eout\n",
    "eout_RCV = calc_eout(clf_RCV.coef_,X_trans,y,predictions_RCV)\n",
    "\n",
    "print(\"\\nregularization parameter\", clf_RCV.alpha_)\n",
    "print(\"\\nscore :\", score_RCV)\n",
    "print(\"\\neout :\", eout_RCV)\n",
    "print(\"\\nweight vector :\", clf_RCV.coef_)"
   ]
  },
  {
   "cell_type": "markdown",
   "metadata": {},
   "source": [
    "#### The optimal lambda identified by RidgeCV is 0.01 that is different from methods with or without K Folds CV. The weight vector is same in size with the above methods that identified optimal lambda. RidgeCV used all the features as none of the weight coefficient is zero."
   ]
  },
  {
   "cell_type": "markdown",
   "metadata": {},
   "source": [
    "### LassoCV performs L1 regularization"
   ]
  },
  {
   "cell_type": "code",
   "execution_count": 25,
   "metadata": {},
   "outputs": [
    {
     "name": "stdout",
     "output_type": "stream",
     "text": [
      "\n",
      "regularization parameter 0.0001\n",
      "\n",
      "score : 0.9648367818794357\n",
      "\n",
      "eout : 0.07386148650670027\n",
      "\n",
      "weight vector : [ 0.          4.74195514 -3.60439882 -0.47683374 -0.          0.\n",
      "  0.          0.          0.10267886  0.05876398  0.          0.\n",
      "  0.          0.          0.          0.          0.          0.\n",
      "  0.          0.          0.          0.          0.          0.\n",
      "  0.          0.          0.          0.          0.          0.\n",
      "  0.          0.          0.          0.          0.          0.\n",
      "  0.          0.          0.          0.          0.          0.\n",
      "  0.          0.          0.          0.          0.          0.\n",
      "  0.          0.          0.05467747]\n"
     ]
    }
   ],
   "source": [
    "lambdas_LCV = np.arange(0, 1, 0.001)\n",
    "#alpha = lambdas_LCV # 1000 values\n",
    "alpha = lambdas # 7 values\n",
    "fold = 10 # used 10 folds to compare cross validation with Task 5\n",
    "\n",
    "clf_LCV = LassoCV(alphas=alpha, cv=fold) #, normalize=True) # Try normalize\n",
    "\n",
    "# Fit the Data\n",
    "clf_LCV.fit(X_trans, y)\n",
    "\n",
    "# Score and Prediction\n",
    "score_LCV = clf_LCV.score(X_trans,y) \n",
    "predictions_LCV = clf_LCV.predict(X_trans)\n",
    "\n",
    "# Calculate Eout\n",
    "eout_LCV = calc_eout(clf_LCV.coef_,X_trans,y,predictions_LCV)\n",
    "\n",
    "print(\"\\nregularization parameter\", clf_LCV.alpha_)\n",
    "print(\"\\nscore :\", score_LCV)\n",
    "print(\"\\neout :\", eout_LCV)\n",
    "print(\"\\nweight vector :\", clf_LCV.coef_)"
   ]
  },
  {
   "cell_type": "markdown",
   "metadata": {},
   "source": [
    "#### The optimal lambda identified by LassoCV is 0.0001 that is exactly same as in K Folds CV. "
   ]
  },
  {
   "cell_type": "markdown",
   "metadata": {},
   "source": [
    "### Weight coefficient comparison between RidgeCV and LassoCV"
   ]
  },
  {
   "cell_type": "markdown",
   "metadata": {},
   "source": [
    "\n",
    "\n",
    "#### The weight coefficient have exactly zero, Out of 50 features only 6 features was selected. The weight coefficient for 44 features are zero. This shows that the LassoCV excluded 44 features. With transpoly method the data X was transformed to higher degree polynomial with 50 degrees. So the datas have to be highly correalted. But still LassoCV excluded few features which could be a disadvantage. So use RidgeCV for datasets with highly correlated features and LassoCV for datsets with any less correlated features.¶"
   ]
  },
  {
   "cell_type": "markdown",
   "metadata": {},
   "source": [
    "### Resulting Eout Comparison for different methods"
   ]
  },
  {
   "cell_type": "code",
   "execution_count": 26,
   "metadata": {},
   "outputs": [
    {
     "name": "stdout",
     "output_type": "stream",
     "text": [
      "\n",
      "Eout with out regularization: 0.1505083499221609\n",
      "\n",
      "Eout with optimal lambda: 0.058970188266013024\n",
      "\n",
      "Eout with optimal lambda from KFOLD: 0.08132948613542437\n",
      "\n",
      "Eout RidgeCV : 0.07695832377473873\n",
      "\n",
      "Eout LassoCV : 0.07386148650670027\n"
     ]
    }
   ],
   "source": [
    "print('\\nEout with out regularization:',  eout[0])\n",
    "print('\\nEout with optimal lambda:',  eout[min_eout_index])\n",
    "print('\\nEout with optimal lambda from KFOLD:',  eout_kfold)\n",
    "print(\"\\nEout RidgeCV :\", eout_RCV)\n",
    "print(\"\\nEout LassoCV :\", eout_LCV)"
   ]
  },
  {
   "cell_type": "markdown",
   "metadata": {},
   "source": [
    "#### The above resulting eout show that the Eout with out any regularization is very high compared to eout from models that use regularization. Out of the models that use regularization the eout found using method with out kfold is lowest one and then the next best model for lowest eout is using LassoCV. The Eout found suing ridge CV and method with Kfold CV are higher than other methods"
   ]
  }
 ],
 "metadata": {
  "kernelspec": {
   "display_name": "Python 3",
   "language": "python",
   "name": "python3"
  },
  "language_info": {
   "codemirror_mode": {
    "name": "ipython",
    "version": 3
   },
   "file_extension": ".py",
   "mimetype": "text/x-python",
   "name": "python",
   "nbconvert_exporter": "python",
   "pygments_lexer": "ipython3",
   "version": "3.7.1"
  }
 },
 "nbformat": 4,
 "nbformat_minor": 2
}
