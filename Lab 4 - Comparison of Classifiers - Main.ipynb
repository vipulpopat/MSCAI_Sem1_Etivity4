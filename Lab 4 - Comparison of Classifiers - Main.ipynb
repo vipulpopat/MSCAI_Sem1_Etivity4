{
 "cells": [
  {
   "cell_type": "markdown",
   "metadata": {},
   "source": [
    "# E-tivity 4: CS5062 Overfitting and How to Prevent It \n",
    "\n",
    "## Name: Martin Power\n",
    "## ID      : 9939245"
   ]
  },
  {
   "cell_type": "markdown",
   "metadata": {},
   "source": [
    "# Lab 4: Comparison of Classifiers"
   ]
  },
  {
   "cell_type": "markdown",
   "metadata": {},
   "source": [
    "This notebook demonstrates how to choose the best out of a few alternative classification models by applying cross-validation and comparing the accuracy of prediction, the F1-scores and the ROC curves of the classification models.\n",
    "\n",
    "Here we use a _modified version_ of the __seeds data set__ (see https://archive.ics.uci.edu/ml/datasets/seeds), which is one of the public UCI data sets. Each example is a seed described by a few numerical attributes. The target variable for classification (in this example) is the type of the seed, which can be either 1 or 0. Class 1 are the seeds of a particular type that, we can assume, is important to learn to predict correctly, while class 0 are all other seeds.\n",
    "\n",
    "In this example, we use 5-fold cross-validation. Empirical evidence suggests that 10 folds are probably the best choice for cross-validation, i.e. 10-fold cross-validation. However, since this data set is relatively small, and 1/10 of it is only 21 examples, it is sensible to use larger folds for testing. Thus, we demonstrate the comparison of classifiers with 5-fold cross-validation.\n",
    "\n",
    "The code in this notebook was originally inspired by the example at https://scikit-learn.org/stable/auto_examples/model_selection/plot_roc_crossval.html."
   ]
  },
  {
   "cell_type": "markdown",
   "metadata": {},
   "source": [
    "## A. Preparation"
   ]
  },
  {
   "cell_type": "markdown",
   "metadata": {},
   "source": [
    "### Import Python modules"
   ]
  },
  {
   "cell_type": "code",
   "execution_count": 175,
   "metadata": {},
   "outputs": [],
   "source": [
    "import pandas as pd\n",
    "import numpy as np\n",
    "import matplotlib.pyplot as plt\n",
    "\n",
    "from itertools import cycle\n",
    "\n",
    "from sklearn import preprocessing #needed for scaling attributes to the nterval [0,1]\n",
    "from sklearn import svm\n",
    "from sklearn.naive_bayes import GaussianNB\n",
    "from sklearn.metrics import roc_curve, auc, accuracy_score, f1_score\n",
    "from sklearn.model_selection import StratifiedKFold\n",
    "\n",
    "from scipy import interp\n",
    "\n",
    "# Additional imports added for Etivity\n",
    "from sklearn.metrics import precision_recall_curve\n",
    "from sklearn.metrics import precision_score\n",
    "from sklearn.metrics import recall_score\n",
    "from sklearn.tree import DecisionTreeClassifier\n",
    "from sklearn.svm import SVC\n",
    "from sklearn.ensemble import AdaBoostClassifier\n",
    "from sklearn.model_selection import GridSearchCV"
   ]
  },
  {
   "cell_type": "markdown",
   "metadata": {},
   "source": [
    "### Import evaluation and plotting functions"
   ]
  },
  {
   "cell_type": "code",
   "execution_count": 176,
   "metadata": {},
   "outputs": [],
   "source": [
    "%run ./Lab4_Functions.ipynb"
   ]
  },
  {
   "cell_type": "markdown",
   "metadata": {},
   "source": [
    "### Load and prepare the dataset for training and evaluating a classifier\n",
    "Feel free to apply any other pre-processing technique at this point."
   ]
  },
  {
   "cell_type": "code",
   "execution_count": 177,
   "metadata": {},
   "outputs": [],
   "source": [
    "# lab4_df = pd.read_csv(\"./seeds_dataset_binary.csv\")\n",
    "# lab4_df.describe()"
   ]
  },
  {
   "cell_type": "code",
   "execution_count": 178,
   "metadata": {},
   "outputs": [],
   "source": [
    "# # target attribute\n",
    "# target = lab4_df['type']\n",
    "\n",
    "# # predictor attributes\n",
    "# predictors = lab4_df.drop('type', axis=1).values\n",
    "\n",
    "# # scale all predictor values to the range [0, 1]\n",
    "# # note the target attribute 'type' is already binary\n",
    "# min_max_scaler = preprocessing.MinMaxScaler()\n",
    "# predictors = min_max_scaler.fit_transform(predictors)"
   ]
  },
  {
   "cell_type": "markdown",
   "metadata": {},
   "source": [
    "### Prepare an array of 100 equally spaced false-positive-rate values between 0 and 1\n",
    "To be used as an x-axis in ROC curve plots."
   ]
  },
  {
   "cell_type": "code",
   "execution_count": 179,
   "metadata": {},
   "outputs": [],
   "source": [
    "# mean_fpr = np.linspace(start=0, stop=1, num=100)"
   ]
  },
  {
   "cell_type": "markdown",
   "metadata": {},
   "source": [
    "## B. Evaluation and Comparison of Classifiers"
   ]
  },
  {
   "cell_type": "markdown",
   "metadata": {},
   "source": [
    "### Train a Probablistic SVM Classifier"
   ]
  },
  {
   "cell_type": "code",
   "execution_count": 180,
   "metadata": {},
   "outputs": [],
   "source": [
    "# # Create an SVM classifier object as a probabilistic classifier with default parameters\n",
    "# SVM_classifier = svm.SVC(probability=True)\n",
    "\n",
    "# # Train and evaluate the classifier by applying 5-fold cross validation.\n",
    "# # We use 5 folds only, because the data set is rather small.\n",
    "# accuracies_SVM, f1_scores_SVM, tprs_SVM, aucs_SVM = evaluate_classifier(folds=5, \n",
    "#                                                                         p=predictors, t=target, \n",
    "#                                                                         classifier=SVM_classifier, \n",
    "#                                                                         mean_fpr=mean_fpr)\n",
    "# # runs k-fold cross validation to measure various metrics of a classifier:\n",
    "# #        accuracies - an array of accuracies for each fold\n",
    "# #        f1_scores - an array of F1-scores (also known as F-scores) for each fold\n",
    "# #        tprs - true positive rates, one per cross-validation fold\n",
    "# #        aucs - areas below the ROC curve, one per cross-validation fold"
   ]
  },
  {
   "cell_type": "code",
   "execution_count": 181,
   "metadata": {},
   "outputs": [],
   "source": [
    "# # Plot a ROC curve for each cross-validation fold\n",
    "# plot_roc_cv_folds(mean_fpr, tprs_SVM, aucs_SVM, 'SVM')"
   ]
  },
  {
   "cell_type": "code",
   "execution_count": 182,
   "metadata": {},
   "outputs": [],
   "source": [
    "# # Plot a mean ROC curve for all cross-validation runs\n",
    "# plot_roc_mean(mean_fpr, tprs_SVM, aucs_SVM, 'SVM')"
   ]
  },
  {
   "cell_type": "markdown",
   "metadata": {},
   "source": [
    "### Train a Naive Bayes Classifier"
   ]
  },
  {
   "cell_type": "code",
   "execution_count": 183,
   "metadata": {},
   "outputs": [],
   "source": [
    "# # Create a Naive Bayes classifier object with default parameters (note: Naive Bayes is a probabilistic classifier by default)\n",
    "# NB_classifier = GaussianNB()\n",
    "\n",
    "# # Train and evaluate the classifier by applying 5-fold cross validation.\n",
    "# # We use 5 folds only, because the data set is rather small.\n",
    "# accuracies_NB, f1_scores_NB, tprs_NB, aucs_NB = evaluate_classifier(folds=5, \n",
    "#                                                                     p=predictors, t=target, \n",
    "#                                                                     classifier=NB_classifier, \n",
    "#                                                                     mean_fpr=mean_fpr)\n",
    "# # runs k-fold cross validation to measure various metrics of a classifier:\n",
    "# #        accuracies - an array of accuracies for each fold\n",
    "# #        f1_scores - an array of F1-scores (also known as F-scores) for each fold\n",
    "# #        tprs - true positive rates, one per cross-validation fold\n",
    "# #        aucs - areas below the ROC curve, one per cross-validation fold"
   ]
  },
  {
   "cell_type": "code",
   "execution_count": 184,
   "metadata": {},
   "outputs": [],
   "source": [
    "# # Plot a ROC curve for each cross-validation fold\n",
    "# plot_roc_cv_folds(mean_fpr, tprs_NB, aucs_NB, 'Naive Bayes')"
   ]
  },
  {
   "cell_type": "code",
   "execution_count": 185,
   "metadata": {},
   "outputs": [],
   "source": [
    "# # Plot a mean ROC curve for all cross-validation runs\n",
    "# plot_roc_mean(mean_fpr, tprs_NB, aucs_NB, 'Naive Bayes')"
   ]
  },
  {
   "cell_type": "markdown",
   "metadata": {},
   "source": [
    "### Compare All Trained Classifiers"
   ]
  },
  {
   "cell_type": "code",
   "execution_count": 186,
   "metadata": {},
   "outputs": [],
   "source": [
    "# plot_roc_multiple_classifiers(mean_fpr, \n",
    "#                               np.stack((np.mean(tprs_SVM, axis=0), np.mean(tprs_NB, axis=0))), \n",
    "#                               np.array([np.mean(aucs_SVM), np.mean(aucs_NB)]), \n",
    "#                               np.array(['SVM', 'Naive Bayes']))"
   ]
  },
  {
   "cell_type": "code",
   "execution_count": 187,
   "metadata": {},
   "outputs": [],
   "source": [
    "# # Compare the statistics of the accuracies across all cross-validation folds\n",
    "# accuracies_df = pd.DataFrame(data={'SVM' : accuracies_SVM, 'Naive Bayes' : accuracies_NB})"
   ]
  },
  {
   "cell_type": "code",
   "execution_count": 188,
   "metadata": {},
   "outputs": [],
   "source": [
    "# accuracies_df.describe()"
   ]
  },
  {
   "cell_type": "code",
   "execution_count": 189,
   "metadata": {},
   "outputs": [],
   "source": [
    "# accuracies_df.boxplot()"
   ]
  },
  {
   "cell_type": "code",
   "execution_count": 190,
   "metadata": {},
   "outputs": [],
   "source": [
    "# # Compare the statistics of the F1-scores across all cross-validation folds\n",
    "# f1_scores_df = pd.DataFrame(data={'SVM' : f1_scores_SVM, 'Naive Bayes' : f1_scores_NB})"
   ]
  },
  {
   "cell_type": "code",
   "execution_count": 191,
   "metadata": {},
   "outputs": [],
   "source": [
    "# f1_scores_df.describe()"
   ]
  },
  {
   "cell_type": "code",
   "execution_count": 192,
   "metadata": {},
   "outputs": [],
   "source": [
    "# f1_scores_df.boxplot()"
   ]
  },
  {
   "cell_type": "markdown",
   "metadata": {},
   "source": [
    "#### Conclusion\n",
    "\n",
    "In this example, both the SVM and the Naive Bayes classifiers have mean accuracy approximately 88%, which is quite high. The ROC curves do not suggest a clear winner, although it can be noted that Naive Bayes can achieve TPR above 80% for a lower FPR than SVM. On the other hand, the accuracy of the five folds of Naive Bayes show higher variance than the accuracy of the five folds of SVM, and low variance is desirable. Still, the lowest accuracy of Naive Bayes is above 75% which is not bad. Similar observation can be made about the F1 score. Naive Bayes has a higher mean F1 score but also higher variance. Since both SVM and Naive Bayes have high mean accuracy, high mean F1 score and a very similar AUC, while SVM appears to have visibly lower variance than Naive Bayes, we can conclude that perhaps SVM is a safer choice for a best model. \n",
    "\n",
    "It will be interesting to plot precision and recall for a more detailed comparison. Since the two classes are not well balanced (1/3 of the examples are in class 1), a precision-recall curve a more detailed study of the precision and recall can provide better information than the ROC curves for picking the best model."
   ]
  },
  {
   "cell_type": "markdown",
   "metadata": {},
   "source": [
    "## C. FInal Model"
   ]
  },
  {
   "cell_type": "markdown",
   "metadata": {},
   "source": [
    "Assuming SVM was chosen, now we can train a final (to be potentially deployed) SVM model with the whole dataset:"
   ]
  },
  {
   "cell_type": "code",
   "execution_count": 193,
   "metadata": {},
   "outputs": [],
   "source": [
    "# # model = NB_classifier.fit(predictors, target) \n",
    "# model = SVM_classifier.fit(predictors, target) "
   ]
  },
  {
   "cell_type": "markdown",
   "metadata": {},
   "source": [
    "Use the model to predict the type of three new seeds:"
   ]
  },
  {
   "cell_type": "code",
   "execution_count": 194,
   "metadata": {},
   "outputs": [],
   "source": [
    "# new_seeds = np.array([[0.4,0.5,0.6,0.5,0.5,0.2,0.3], [0.0,1.0,0.0,1.0,0.5,0.5,0.2], [0.2,0.2,0.2,1.0,0.2,0.2,0.2]])"
   ]
  },
  {
   "cell_type": "code",
   "execution_count": 195,
   "metadata": {},
   "outputs": [],
   "source": [
    "# # Probabilistic prediction\n",
    "# np.round(model.predict_proba(new_seeds), 2)\n",
    "# # Note: \n",
    "# #   - the first column are the probabilities for the three new seeds to belong to class 0\n",
    "# #   - the second column are the probabilities for the three new seeds to belong to class 1"
   ]
  },
  {
   "cell_type": "code",
   "execution_count": 196,
   "metadata": {},
   "outputs": [],
   "source": [
    "# # Exact prediction\n",
    "# model.predict(new_seeds)"
   ]
  },
  {
   "cell_type": "markdown",
   "metadata": {},
   "source": [
    "# Loans Dataset"
   ]
  },
  {
   "cell_type": "markdown",
   "metadata": {},
   "source": [
    "### Load and prepare the dataset for training and evaluating a classifier\n",
    "Loading Loans Dataset"
   ]
  },
  {
   "cell_type": "code",
   "execution_count": 23,
   "metadata": {},
   "outputs": [
    {
     "data": {
      "text/html": [
       "<div>\n",
       "<style scoped>\n",
       "    .dataframe tbody tr th:only-of-type {\n",
       "        vertical-align: middle;\n",
       "    }\n",
       "\n",
       "    .dataframe tbody tr th {\n",
       "        vertical-align: top;\n",
       "    }\n",
       "\n",
       "    .dataframe thead th {\n",
       "        text-align: right;\n",
       "    }\n",
       "</style>\n",
       "<table border=\"1\" class=\"dataframe\">\n",
       "  <thead>\n",
       "    <tr style=\"text-align: right;\">\n",
       "      <th></th>\n",
       "      <th>Gender</th>\n",
       "      <th>Married</th>\n",
       "      <th>Dependents</th>\n",
       "      <th>Education</th>\n",
       "      <th>Self_Employed</th>\n",
       "      <th>ApplicantIncome</th>\n",
       "      <th>CoapplicantIncome</th>\n",
       "      <th>LoanAmount</th>\n",
       "      <th>Loan_Amount_Term</th>\n",
       "      <th>Credit_History</th>\n",
       "      <th>Property_Area</th>\n",
       "      <th>Loan_Status</th>\n",
       "    </tr>\n",
       "  </thead>\n",
       "  <tbody>\n",
       "    <tr>\n",
       "      <th>count</th>\n",
       "      <td>480.000000</td>\n",
       "      <td>480.000000</td>\n",
       "      <td>480.000000</td>\n",
       "      <td>480.000000</td>\n",
       "      <td>480.000000</td>\n",
       "      <td>480.000000</td>\n",
       "      <td>480.000000</td>\n",
       "      <td>480.000000</td>\n",
       "      <td>480.000000</td>\n",
       "      <td>480.000000</td>\n",
       "      <td>480.000000</td>\n",
       "      <td>480.000000</td>\n",
       "    </tr>\n",
       "    <tr>\n",
       "      <th>mean</th>\n",
       "      <td>0.820833</td>\n",
       "      <td>0.647917</td>\n",
       "      <td>0.777083</td>\n",
       "      <td>0.797917</td>\n",
       "      <td>0.137500</td>\n",
       "      <td>5364.231250</td>\n",
       "      <td>1581.093583</td>\n",
       "      <td>144.735417</td>\n",
       "      <td>342.050000</td>\n",
       "      <td>0.854167</td>\n",
       "      <td>1.022917</td>\n",
       "      <td>0.691667</td>\n",
       "    </tr>\n",
       "    <tr>\n",
       "      <th>std</th>\n",
       "      <td>0.383892</td>\n",
       "      <td>0.478118</td>\n",
       "      <td>1.020815</td>\n",
       "      <td>0.401973</td>\n",
       "      <td>0.344734</td>\n",
       "      <td>5668.251251</td>\n",
       "      <td>2617.692267</td>\n",
       "      <td>80.508164</td>\n",
       "      <td>65.212401</td>\n",
       "      <td>0.353307</td>\n",
       "      <td>0.776411</td>\n",
       "      <td>0.462287</td>\n",
       "    </tr>\n",
       "    <tr>\n",
       "      <th>min</th>\n",
       "      <td>0.000000</td>\n",
       "      <td>0.000000</td>\n",
       "      <td>0.000000</td>\n",
       "      <td>0.000000</td>\n",
       "      <td>0.000000</td>\n",
       "      <td>150.000000</td>\n",
       "      <td>0.000000</td>\n",
       "      <td>9.000000</td>\n",
       "      <td>36.000000</td>\n",
       "      <td>0.000000</td>\n",
       "      <td>0.000000</td>\n",
       "      <td>0.000000</td>\n",
       "    </tr>\n",
       "    <tr>\n",
       "      <th>25%</th>\n",
       "      <td>1.000000</td>\n",
       "      <td>0.000000</td>\n",
       "      <td>0.000000</td>\n",
       "      <td>1.000000</td>\n",
       "      <td>0.000000</td>\n",
       "      <td>2898.750000</td>\n",
       "      <td>0.000000</td>\n",
       "      <td>100.000000</td>\n",
       "      <td>360.000000</td>\n",
       "      <td>1.000000</td>\n",
       "      <td>0.000000</td>\n",
       "      <td>0.000000</td>\n",
       "    </tr>\n",
       "    <tr>\n",
       "      <th>50%</th>\n",
       "      <td>1.000000</td>\n",
       "      <td>1.000000</td>\n",
       "      <td>0.000000</td>\n",
       "      <td>1.000000</td>\n",
       "      <td>0.000000</td>\n",
       "      <td>3859.000000</td>\n",
       "      <td>1084.500000</td>\n",
       "      <td>128.000000</td>\n",
       "      <td>360.000000</td>\n",
       "      <td>1.000000</td>\n",
       "      <td>1.000000</td>\n",
       "      <td>1.000000</td>\n",
       "    </tr>\n",
       "    <tr>\n",
       "      <th>75%</th>\n",
       "      <td>1.000000</td>\n",
       "      <td>1.000000</td>\n",
       "      <td>2.000000</td>\n",
       "      <td>1.000000</td>\n",
       "      <td>0.000000</td>\n",
       "      <td>5852.500000</td>\n",
       "      <td>2253.250000</td>\n",
       "      <td>170.000000</td>\n",
       "      <td>360.000000</td>\n",
       "      <td>1.000000</td>\n",
       "      <td>2.000000</td>\n",
       "      <td>1.000000</td>\n",
       "    </tr>\n",
       "    <tr>\n",
       "      <th>max</th>\n",
       "      <td>1.000000</td>\n",
       "      <td>1.000000</td>\n",
       "      <td>3.000000</td>\n",
       "      <td>1.000000</td>\n",
       "      <td>1.000000</td>\n",
       "      <td>81000.000000</td>\n",
       "      <td>33837.000000</td>\n",
       "      <td>600.000000</td>\n",
       "      <td>480.000000</td>\n",
       "      <td>1.000000</td>\n",
       "      <td>2.000000</td>\n",
       "      <td>1.000000</td>\n",
       "    </tr>\n",
       "  </tbody>\n",
       "</table>\n",
       "</div>"
      ],
      "text/plain": [
       "           Gender     Married  Dependents   Education  Self_Employed  \\\n",
       "count  480.000000  480.000000  480.000000  480.000000     480.000000   \n",
       "mean     0.820833    0.647917    0.777083    0.797917       0.137500   \n",
       "std      0.383892    0.478118    1.020815    0.401973       0.344734   \n",
       "min      0.000000    0.000000    0.000000    0.000000       0.000000   \n",
       "25%      1.000000    0.000000    0.000000    1.000000       0.000000   \n",
       "50%      1.000000    1.000000    0.000000    1.000000       0.000000   \n",
       "75%      1.000000    1.000000    2.000000    1.000000       0.000000   \n",
       "max      1.000000    1.000000    3.000000    1.000000       1.000000   \n",
       "\n",
       "       ApplicantIncome  CoapplicantIncome  LoanAmount  Loan_Amount_Term  \\\n",
       "count       480.000000         480.000000  480.000000        480.000000   \n",
       "mean       5364.231250        1581.093583  144.735417        342.050000   \n",
       "std        5668.251251        2617.692267   80.508164         65.212401   \n",
       "min         150.000000           0.000000    9.000000         36.000000   \n",
       "25%        2898.750000           0.000000  100.000000        360.000000   \n",
       "50%        3859.000000        1084.500000  128.000000        360.000000   \n",
       "75%        5852.500000        2253.250000  170.000000        360.000000   \n",
       "max       81000.000000       33837.000000  600.000000        480.000000   \n",
       "\n",
       "       Credit_History  Property_Area  Loan_Status  \n",
       "count      480.000000     480.000000   480.000000  \n",
       "mean         0.854167       1.022917     0.691667  \n",
       "std          0.353307       0.776411     0.462287  \n",
       "min          0.000000       0.000000     0.000000  \n",
       "25%          1.000000       0.000000     0.000000  \n",
       "50%          1.000000       1.000000     1.000000  \n",
       "75%          1.000000       2.000000     1.000000  \n",
       "max          1.000000       2.000000     1.000000  "
      ]
     },
     "execution_count": 23,
     "metadata": {},
     "output_type": "execute_result"
    }
   ],
   "source": [
    "loans_df = pd.read_csv(\"./loans_et4.csv\")\n",
    "loans_df.describe(include='all')"
   ]
  },
  {
   "cell_type": "code",
   "execution_count": 118,
   "metadata": {},
   "outputs": [
    {
     "name": "stdout",
     "output_type": "stream",
     "text": [
      "Number of Samples  in Dataset:\t 480\n",
      "Number of Features in Dataset:\t 12\n"
     ]
    }
   ],
   "source": [
    "print(\"Number of Samples  in Dataset:\\t\",loans_df.shape[0])\n",
    "print(\"Number of Features in Dataset:\\t\",loans_df.shape[1])"
   ]
  },
  {
   "cell_type": "code",
   "execution_count": 119,
   "metadata": {},
   "outputs": [
    {
     "name": "stdout",
     "output_type": "stream",
     "text": [
      "Gender               False\n",
      "Married              False\n",
      "Dependents           False\n",
      "Education            False\n",
      "Self_Employed        False\n",
      "ApplicantIncome      False\n",
      "CoapplicantIncome    False\n",
      "LoanAmount           False\n",
      "Loan_Amount_Term     False\n",
      "Credit_History       False\n",
      "Property_Area        False\n",
      "Loan_Status          False\n",
      "dtype: bool\n"
     ]
    }
   ],
   "source": [
    "# Quick Check to Ensure no missing data\n",
    "print(loans_df.isnull().any())"
   ]
  },
  {
   "cell_type": "code",
   "execution_count": 121,
   "metadata": {},
   "outputs": [
    {
     "name": "stdout",
     "output_type": "stream",
     "text": [
      "Number of Unique Loan_Status values are  2\n",
      "Unique Values and Counts:\n"
     ]
    },
    {
     "data": {
      "text/plain": [
       "1    332\n",
       "0    148\n",
       "Name: Loan_Status, dtype: int64"
      ]
     },
     "execution_count": 121,
     "metadata": {},
     "output_type": "execute_result"
    }
   ],
   "source": [
    "print(\"Number of Unique Loan_Status values are \",loans_df['Loan_Status'].nunique())\n",
    "print(\"Unique Values and Counts:\")\n",
    "loans_df['Loan_Status'].value_counts()"
   ]
  },
  {
   "cell_type": "markdown",
   "metadata": {},
   "source": [
    "#### Quick Summary on Target Attribute **'Loan_Status'*\n",
    "* 480 Values\n",
    "* All values are either 0 or 1\n",
    "* 69% of values are 1\n",
    "* 31% of values are 0\n",
    "   * Distribution is **not balanced!**"
   ]
  },
  {
   "cell_type": "code",
   "execution_count": 122,
   "metadata": {},
   "outputs": [],
   "source": [
    "# target attribute\n",
    "target = loans_df['Loan_Status']\n",
    "\n",
    "# predictor attributes\n",
    "predictors = loans_df.drop('Loan_Status', axis=1).values\n",
    "\n",
    "# scale all predictor values to the range [0, 1]\n",
    "# note the target attribute 'type' is already binary\n",
    "min_max_scaler = preprocessing.MinMaxScaler()\n",
    "predictors = min_max_scaler.fit_transform(predictors)"
   ]
  },
  {
   "cell_type": "markdown",
   "metadata": {},
   "source": [
    "### Prepare an array of 100 equally spaced false-positive-rate values between 0 and 1\n",
    "To be used as an x-axis in ROC curve plots."
   ]
  },
  {
   "cell_type": "code",
   "execution_count": 197,
   "metadata": {},
   "outputs": [],
   "source": [
    "mean_fpr = np.linspace(start=0, stop=1, num=100) "
   ]
  },
  {
   "cell_type": "markdown",
   "metadata": {},
   "source": [
    "## B. Evaluation and Comparison of Classifiers"
   ]
  },
  {
   "cell_type": "markdown",
   "metadata": {},
   "source": [
    "### Setting Number of Folds To Use on **Loans** Dataset\n",
    "\n",
    "* Seeds dataset only had 210 entries so folds was restricted to 5 folds\n",
    "    * Each test set had 42 entries\n",
    "* Loans dataset has 480 entries so it may be possible to use 10 folds\n",
    "    * Each test set has 48 entries with 10-fold cross validation\n",
    "    * Each test set has 96 entries with 5-fold cross validation\n",
    "* Using variable to allow folds to be easily varied and impact on performance observed\n",
    "    * Using 10-fold validation\n",
    "    * Will also experiment with 5-fold validation"
   ]
  },
  {
   "cell_type": "code",
   "execution_count": 132,
   "metadata": {},
   "outputs": [],
   "source": [
    "# Seeds dataset only had 210 entries so folds was restricted to 5\n",
    "# Loans dataset has 480 entries so it may be possible to use 10 folds\n",
    "# Using variable to allow folds to be easily varied and impact on performance observed\n",
    "\n",
    "loan_folds = 10\n",
    "#loan_folds = 5"
   ]
  },
  {
   "cell_type": "markdown",
   "metadata": {},
   "source": [
    "### Train a Probablistic SVM Classifier"
   ]
  },
  {
   "cell_type": "code",
   "execution_count": 198,
   "metadata": {},
   "outputs": [],
   "source": [
    "# Create an SVM classifier object as a probabilistic classifier with default parameters\n",
    "SVM_classifier = svm.SVC(probability=True, gamma='auto')\n",
    "\n",
    "accuracies_SVM, f1_scores_SVM, precisions_SVM, recalls_SVM, tprs_SVM, aucs_SVM = evaluate_classifier_upd(folds=loan_folds, \n",
    "                                                                        p=predictors, t=target, \n",
    "                                                                        classifier=SVM_classifier, \n",
    "                                                                        mean_fpr=mean_fpr)"
   ]
  },
  {
   "cell_type": "code",
   "execution_count": 199,
   "metadata": {},
   "outputs": [
    {
     "data": {
      "image/png": "[encoded data removed]",
      "text/plain": [
       "<Figure size 432x288 with 1 Axes>"
      ]
     },
     "metadata": {
      "needs_background": "light"
     },
     "output_type": "display_data"
    }
   ],
   "source": [
    "# Plot a ROC curve for each cross-validation fold\n",
    "plot_roc_cv_folds(mean_fpr, tprs_SVM, aucs_SVM, 'SVM')"
   ]
  },
  {
   "cell_type": "code",
   "execution_count": 200,
   "metadata": {},
   "outputs": [
    {
     "data": {
      "image/png": "[encoded data removed]",
      "text/plain": [
       "<Figure size 432x288 with 1 Axes>"
      ]
     },
     "metadata": {
      "needs_background": "light"
     },
     "output_type": "display_data"
    }
   ],
   "source": [
    "# Plot a mean ROC curve for all cross-validation runs\n",
    "plot_roc_mean(mean_fpr, tprs_SVM, aucs_SVM, 'SVM')"
   ]
  },
  {
   "cell_type": "markdown",
   "metadata": {},
   "source": [
    "### Train a Naive Bayes Classifier"
   ]
  },
  {
   "cell_type": "code",
   "execution_count": 136,
   "metadata": {},
   "outputs": [],
   "source": [
    "# Create a Naive Bayes classifier object with default parameters (note: Naive Bayes is a probabilistic classifier by default)\n",
    "NB_classifier = GaussianNB()\n",
    "\n",
    "accuracies_NB, f1_scores_NB, precisions_NB, recalls_NB, tprs_NB, aucs_NB = evaluate_classifier_upd(folds=loan_folds, \n",
    "                                                                    p=predictors, t=target, \n",
    "                                                                    classifier=NB_classifier, \n",
    "                                                                    mean_fpr=mean_fpr)"
   ]
  },
  {
   "cell_type": "code",
   "execution_count": 137,
   "metadata": {},
   "outputs": [
    {
     "data": {
      "image/png": "[encoded data removed]",
      "text/plain": [
       "<Figure size 432x288 with 1 Axes>"
      ]
     },
     "metadata": {
      "needs_background": "light"
     },
     "output_type": "display_data"
    }
   ],
   "source": [
    "# Plot a ROC curve for each cross-validation fold\n",
    "plot_roc_cv_folds(mean_fpr, tprs_NB, aucs_NB, 'Naive Bayes')"
   ]
  },
  {
   "cell_type": "code",
   "execution_count": 138,
   "metadata": {},
   "outputs": [
    {
     "data": {
      "image/png": "[encoded data removed]",
      "text/plain": [
       "<Figure size 432x288 with 1 Axes>"
      ]
     },
     "metadata": {
      "needs_background": "light"
     },
     "output_type": "display_data"
    }
   ],
   "source": [
    "# Plot a mean ROC curve for all cross-validation runs\n",
    "plot_roc_mean(mean_fpr, tprs_NB, aucs_NB, 'Naive Bayes')"
   ]
  },
  {
   "cell_type": "markdown",
   "metadata": {},
   "source": [
    "### Train an AdaBoost Classifier"
   ]
  },
  {
   "cell_type": "code",
   "execution_count": 139,
   "metadata": {},
   "outputs": [],
   "source": [
    "from sklearn.ensemble import AdaBoostClassifier"
   ]
  },
  {
   "cell_type": "code",
   "execution_count": 140,
   "metadata": {},
   "outputs": [],
   "source": [
    "AB_classifier = AdaBoostClassifier()\n",
    "\n",
    "accuracies_AB, f1_scores_AB, precisions_AB, recalls_AB, tprs_AB, aucs_AB = evaluate_classifier_upd(folds=loan_folds, \n",
    "                                                                        p=predictors, t=target, \n",
    "                                                                        classifier=AB_classifier, \n",
    "                                                                        mean_fpr=mean_fpr)"
   ]
  },
  {
   "cell_type": "code",
   "execution_count": 141,
   "metadata": {},
   "outputs": [
    {
     "data": {
      "image/png": "[encoded data removed]",
      "text/plain": [
       "<Figure size 432x288 with 1 Axes>"
      ]
     },
     "metadata": {
      "needs_background": "light"
     },
     "output_type": "display_data"
    }
   ],
   "source": [
    "# Plot a ROC curve for each cross-validation fold\n",
    "plot_roc_cv_folds(mean_fpr, tprs_AB, aucs_AB, 'AdaBoost')"
   ]
  },
  {
   "cell_type": "code",
   "execution_count": 36,
   "metadata": {},
   "outputs": [
    {
     "data": {
      "image/png": "[encoded data removed]",
      "text/plain": [
       "<Figure size 432x288 with 1 Axes>"
      ]
     },
     "metadata": {
      "needs_background": "light"
     },
     "output_type": "display_data"
    }
   ],
   "source": [
    "# Plot a mean ROC curve for all cross-validation runs\n",
    "plot_roc_mean(mean_fpr, tprs_AB, aucs_AB, 'AdaBoost')"
   ]
  },
  {
   "cell_type": "markdown",
   "metadata": {},
   "source": [
    "### Compare All Trained Classifiers"
   ]
  },
  {
   "cell_type": "code",
   "execution_count": 211,
   "metadata": {},
   "outputs": [
    {
     "data": {
      "image/png": "[encoded data removed]",
      "text/plain": [
       "<Figure size 432x288 with 1 Axes>"
      ]
     },
     "metadata": {
      "needs_background": "light"
     },
     "output_type": "display_data"
    }
   ],
   "source": [
    "plot_roc_multiple_classifiers(mean_fpr, \n",
    "                              np.stack((np.mean(tprs_SVM, axis=0), np.mean(tprs_NB, axis=0), np.mean(tprs_AB, axis=0))), \n",
    "                              np.array([np.mean(aucs_SVM), np.mean(aucs_NB), np.mean(aucs_AB)]), \n",
    "                              np.array(['SVM', 'Naive Bayes', 'AdaBoost']))"
   ]
  },
  {
   "cell_type": "code",
   "execution_count": 212,
   "metadata": {},
   "outputs": [],
   "source": [
    "# Compare the statistics of the accuracies across all cross-validation folds\n",
    "accuracies_loans_df = pd.DataFrame(data={'SVM' : accuracies_SVM, 'Naive Bayes' : accuracies_NB, 'AdaBoost' : accuracies_AB})"
   ]
  },
  {
   "cell_type": "code",
   "execution_count": 213,
   "metadata": {},
   "outputs": [
    {
     "data": {
      "text/html": [
       "<div>\n",
       "<style scoped>\n",
       "    .dataframe tbody tr th:only-of-type {\n",
       "        vertical-align: middle;\n",
       "    }\n",
       "\n",
       "    .dataframe tbody tr th {\n",
       "        vertical-align: top;\n",
       "    }\n",
       "\n",
       "    .dataframe thead th {\n",
       "        text-align: right;\n",
       "    }\n",
       "</style>\n",
       "<table border=\"1\" class=\"dataframe\">\n",
       "  <thead>\n",
       "    <tr style=\"text-align: right;\">\n",
       "      <th></th>\n",
       "      <th>SVM</th>\n",
       "      <th>Naive Bayes</th>\n",
       "      <th>AdaBoost</th>\n",
       "    </tr>\n",
       "  </thead>\n",
       "  <tbody>\n",
       "    <tr>\n",
       "      <th>count</th>\n",
       "      <td>10.000000</td>\n",
       "      <td>10.000000</td>\n",
       "      <td>10.000000</td>\n",
       "    </tr>\n",
       "    <tr>\n",
       "      <th>mean</th>\n",
       "      <td>0.808650</td>\n",
       "      <td>0.787732</td>\n",
       "      <td>0.779519</td>\n",
       "    </tr>\n",
       "    <tr>\n",
       "      <th>std</th>\n",
       "      <td>0.042218</td>\n",
       "      <td>0.079246</td>\n",
       "      <td>0.045352</td>\n",
       "    </tr>\n",
       "    <tr>\n",
       "      <th>min</th>\n",
       "      <td>0.755102</td>\n",
       "      <td>0.625000</td>\n",
       "      <td>0.708333</td>\n",
       "    </tr>\n",
       "    <tr>\n",
       "      <th>25%</th>\n",
       "      <td>0.770833</td>\n",
       "      <td>0.770833</td>\n",
       "      <td>0.759035</td>\n",
       "    </tr>\n",
       "    <tr>\n",
       "      <th>50%</th>\n",
       "      <td>0.803997</td>\n",
       "      <td>0.783588</td>\n",
       "      <td>0.789450</td>\n",
       "    </tr>\n",
       "    <tr>\n",
       "      <th>75%</th>\n",
       "      <td>0.846631</td>\n",
       "      <td>0.834998</td>\n",
       "      <td>0.791667</td>\n",
       "    </tr>\n",
       "    <tr>\n",
       "      <th>max</th>\n",
       "      <td>0.872340</td>\n",
       "      <td>0.893617</td>\n",
       "      <td>0.851064</td>\n",
       "    </tr>\n",
       "  </tbody>\n",
       "</table>\n",
       "</div>"
      ],
      "text/plain": [
       "             SVM  Naive Bayes   AdaBoost\n",
       "count  10.000000    10.000000  10.000000\n",
       "mean    0.808650     0.787732   0.779519\n",
       "std     0.042218     0.079246   0.045352\n",
       "min     0.755102     0.625000   0.708333\n",
       "25%     0.770833     0.770833   0.759035\n",
       "50%     0.803997     0.783588   0.789450\n",
       "75%     0.846631     0.834998   0.791667\n",
       "max     0.872340     0.893617   0.851064"
      ]
     },
     "execution_count": 213,
     "metadata": {},
     "output_type": "execute_result"
    }
   ],
   "source": [
    "accuracies_loans_df.describe()"
   ]
  },
  {
   "cell_type": "code",
   "execution_count": 154,
   "metadata": {},
   "outputs": [
    {
     "data": {
      "text/plain": [
       "<matplotlib.axes._subplots.AxesSubplot at 0x16d4faf1278>"
      ]
     },
     "execution_count": 154,
     "metadata": {},
     "output_type": "execute_result"
    },
    {
     "data": {
      "image/png": "[encoded data removed]",
      "text/plain": [
       "<Figure size 432x288 with 1 Axes>"
      ]
     },
     "metadata": {
      "needs_background": "light"
     },
     "output_type": "display_data"
    }
   ],
   "source": [
    "fig, ax = plt.subplots()\n",
    "ax.set_title(\"Accuracy\")\n",
    "\n",
    "accuracies_loans_df.boxplot(ax=ax)"
   ]
  },
  {
   "cell_type": "code",
   "execution_count": 155,
   "metadata": {},
   "outputs": [],
   "source": [
    "# Compare the statistics of the F1-scores across all cross-validation folds\n",
    "f1_scores_loans_df = pd.DataFrame(data={'SVM' : f1_scores_SVM, 'Naive Bayes' : f1_scores_NB, 'AdaBoost' : f1_scores_AB})"
   ]
  },
  {
   "cell_type": "code",
   "execution_count": 156,
   "metadata": {
    "scrolled": true
   },
   "outputs": [
    {
     "data": {
      "text/html": [
       "<div>\n",
       "<style scoped>\n",
       "    .dataframe tbody tr th:only-of-type {\n",
       "        vertical-align: middle;\n",
       "    }\n",
       "\n",
       "    .dataframe tbody tr th {\n",
       "        vertical-align: top;\n",
       "    }\n",
       "\n",
       "    .dataframe thead th {\n",
       "        text-align: right;\n",
       "    }\n",
       "</style>\n",
       "<table border=\"1\" class=\"dataframe\">\n",
       "  <thead>\n",
       "    <tr style=\"text-align: right;\">\n",
       "      <th></th>\n",
       "      <th>SVM</th>\n",
       "      <th>Naive Bayes</th>\n",
       "      <th>AdaBoost</th>\n",
       "    </tr>\n",
       "  </thead>\n",
       "  <tbody>\n",
       "    <tr>\n",
       "      <th>count</th>\n",
       "      <td>10.000000</td>\n",
       "      <td>10.000000</td>\n",
       "      <td>10.000000</td>\n",
       "    </tr>\n",
       "    <tr>\n",
       "      <th>mean</th>\n",
       "      <td>0.876583</td>\n",
       "      <td>0.857474</td>\n",
       "      <td>0.850967</td>\n",
       "    </tr>\n",
       "    <tr>\n",
       "      <th>std</th>\n",
       "      <td>0.025271</td>\n",
       "      <td>0.055906</td>\n",
       "      <td>0.032107</td>\n",
       "    </tr>\n",
       "    <tr>\n",
       "      <th>min</th>\n",
       "      <td>0.842105</td>\n",
       "      <td>0.735294</td>\n",
       "      <td>0.805556</td>\n",
       "    </tr>\n",
       "    <tr>\n",
       "      <th>25%</th>\n",
       "      <td>0.854286</td>\n",
       "      <td>0.853039</td>\n",
       "      <td>0.829976</td>\n",
       "    </tr>\n",
       "    <tr>\n",
       "      <th>50%</th>\n",
       "      <td>0.875769</td>\n",
       "      <td>0.853333</td>\n",
       "      <td>0.852941</td>\n",
       "    </tr>\n",
       "    <tr>\n",
       "      <th>75%</th>\n",
       "      <td>0.898279</td>\n",
       "      <td>0.891641</td>\n",
       "      <td>0.866594</td>\n",
       "    </tr>\n",
       "    <tr>\n",
       "      <th>max</th>\n",
       "      <td>0.916667</td>\n",
       "      <td>0.929577</td>\n",
       "      <td>0.901408</td>\n",
       "    </tr>\n",
       "  </tbody>\n",
       "</table>\n",
       "</div>"
      ],
      "text/plain": [
       "             SVM  Naive Bayes   AdaBoost\n",
       "count  10.000000    10.000000  10.000000\n",
       "mean    0.876583     0.857474   0.850967\n",
       "std     0.025271     0.055906   0.032107\n",
       "min     0.842105     0.735294   0.805556\n",
       "25%     0.854286     0.853039   0.829976\n",
       "50%     0.875769     0.853333   0.852941\n",
       "75%     0.898279     0.891641   0.866594\n",
       "max     0.916667     0.929577   0.901408"
      ]
     },
     "execution_count": 156,
     "metadata": {},
     "output_type": "execute_result"
    }
   ],
   "source": [
    "f1_scores_loans_df.describe()"
   ]
  },
  {
   "cell_type": "code",
   "execution_count": 157,
   "metadata": {},
   "outputs": [
    {
     "data": {
      "text/plain": [
       "<matplotlib.axes._subplots.AxesSubplot at 0x16d4e867748>"
      ]
     },
     "execution_count": 157,
     "metadata": {},
     "output_type": "execute_result"
    },
    {
     "data": {
      "image/png": "[encoded data removed]",
      "text/plain": [
       "<Figure size 432x288 with 1 Axes>"
      ]
     },
     "metadata": {
      "needs_background": "light"
     },
     "output_type": "display_data"
    }
   ],
   "source": [
    "fig, ax = plt.subplots()\n",
    "ax.set_title(\"F1 Score\")\n",
    "\n",
    "f1_scores_loans_df.boxplot(ax=ax)"
   ]
  },
  {
   "cell_type": "markdown",
   "metadata": {},
   "source": [
    "# Task 1 Conclusions"
   ]
  },
  {
   "cell_type": "markdown",
   "metadata": {},
   "source": [
    "A summary of the mean values for Accuracy, F1 Score and AUC are given in the following table for the three trained classifiers:\n",
    "\n",
    "| Measure  | SVM  | Naive Bayes | AdaBoost |\n",
    "|----------|------|-------------|----------|\n",
    "| Accuracy | 0.81 | 0.79        | 0.78     |\n",
    "| F1 Score | 0.88 | 0.86        | 0.85     |\n",
    "| AUC      | 0.72 | 0.70        | 0.66     |\n",
    "\n",
    "## Accuracy\n",
    "\n",
    "* All three models have accuracies in the region of 78-81% with SVM being the highest\n",
    "* SVM also has the lowest variance which is important\n",
    "* The Naive Bayes variance looks much higher than the SVM variance in the boxplot\n",
    "    * On occasion NB delivers higher accuracy than SVM (e.g. 89%)\n",
    "    * However, it also delivers much lower accuracy on occasion (e.g. 0.63%)\n",
    "    * This variance is too significant to make NB a better choice than SVM on accuracy\n",
    "* **Best Accuracy** : SVM\n",
    "* *When dataset is imbalanced, F1 score can be a more appropriate measure*\n",
    "\n",
    "## F1 Score\n",
    "\n",
    "* SVM has both higher F1 score and lower, or equivalent, variance to Naive Bayes and AdaBoost\n",
    "* The minimum F1 score obtained by SVM (0.84) is higher than AdaBoost (0.81) and significantly higher than NB(0.74)\n",
    "* **Best Accuracy** : SVM\n",
    "\n",
    "| *Accuracy* | SVM  | Naive Bayes | AdaBoost | *F1 Score* | SVM  | Naive Bayes | AdaBoost |\n",
    "|----------|------|-------------|----------|----------|------|-------------|----------|\n",
    "| mean     | 0.81 | 0.79        | 0.78     | mean     | 0.88 | 0.86        | 0.85     |\n",
    "| std      | 0.04 | 0.08        | 0.05     | std      | 0.03 | 0.06        | 0.03     |\n",
    "| min      | 0.76 | 0.63        | 0.71     | min      | 0.84 | 0.74        | 0.81     |\n",
    "| 25%      | 0.77 | 0.77        | 0.76     | 0.25     | 0.85 | 0.85        | 0.83     |\n",
    "| 50%      | 0.80 | 0.78        | 0.79     | 0.50     | 0.88 | 0.85        | 0.85     |\n",
    "| 75%      | 0.85 | 0.83        | 0.79     | 0.75     | 0.90 | 0.89        | 0.87     |\n",
    "| max      | 0.87 | 0.89        | 0.85     | max      | 0.92 | 0.93        | 0.90     |\n",
    "\n",
    "## ROC Curve and AUC Score\n",
    "\n",
    "* SVM has a higher mean AUC than NB and AdaBoost\n",
    "* This means that on average SVM is delivering a more skilful model than NB or AdaBoost\n",
    "* **Best AUC** : SVM\n",
    "\n",
    "## Overall Winner\n",
    "\n",
    "* When comparing accuracy, F1 and AUC, SVM delivers clearly better results than NB or AdaBoost\n",
    "* **Best Model** : SVM"
   ]
  },
  {
   "cell_type": "markdown",
   "metadata": {},
   "source": [
    "# Task 2 Precison and Recall Boxplots"
   ]
  },
  {
   "cell_type": "markdown",
   "metadata": {},
   "source": [
    "### Determine Point of Skill/No-Skill for Dataset\n",
    "* Details taken from article at https://machinelearningmastery.com/roc-curves-and-precision-recall-curves-for-classification-in-python/\n",
    "* When discussing presicion-recall curves, the article states :*The no-skill line is defined by the total number of positive cases divide by the total number of positive and negative cases. For a dataset with an equal number of positive and negative cases, this is a straight line at 0.5. Points above this line show skill.*\n",
    "* I originally included this code when plotting precision-recall curves however I will still include this line on the precision box plots\n",
    "* As the dataset is imbalanced, the skill line is not at 0.5 and instead is at 0.69\n"
   ]
  },
  {
   "cell_type": "code",
   "execution_count": 214,
   "metadata": {},
   "outputs": [
    {
     "name": "stdout",
     "output_type": "stream",
     "text": [
      "No Skill Level for This Dataset is:\t 0.6916666666666667\n"
     ]
    }
   ],
   "source": [
    "# Determine No Skill Value\n",
    "total_pos = ((target == 1).sum())\n",
    "total_neg = ((target != 1).sum())\n",
    "\n",
    "no_skill = total_pos/(total_pos+total_neg)\n",
    "\n",
    "print(\"No Skill Level for This Dataset is:\\t\",no_skill)"
   ]
  },
  {
   "cell_type": "code",
   "execution_count": 215,
   "metadata": {},
   "outputs": [],
   "source": [
    "# Compare the statistics of the precisions across all cross-validation folds\n",
    "precisions_loans_df = pd.DataFrame(data={'SVM' : precisions_SVM, 'Naive Bayes' : precisions_NB, 'AdaBoost' : precisions_AB})"
   ]
  },
  {
   "cell_type": "code",
   "execution_count": 216,
   "metadata": {},
   "outputs": [
    {
     "data": {
      "text/html": [
       "<div>\n",
       "<style scoped>\n",
       "    .dataframe tbody tr th:only-of-type {\n",
       "        vertical-align: middle;\n",
       "    }\n",
       "\n",
       "    .dataframe tbody tr th {\n",
       "        vertical-align: top;\n",
       "    }\n",
       "\n",
       "    .dataframe thead th {\n",
       "        text-align: right;\n",
       "    }\n",
       "</style>\n",
       "<table border=\"1\" class=\"dataframe\">\n",
       "  <thead>\n",
       "    <tr style=\"text-align: right;\">\n",
       "      <th></th>\n",
       "      <th>SVM</th>\n",
       "      <th>Naive Bayes</th>\n",
       "      <th>AdaBoost</th>\n",
       "    </tr>\n",
       "  </thead>\n",
       "  <tbody>\n",
       "    <tr>\n",
       "      <th>count</th>\n",
       "      <td>10.000000</td>\n",
       "      <td>10.000000</td>\n",
       "      <td>10.000000</td>\n",
       "    </tr>\n",
       "    <tr>\n",
       "      <th>mean</th>\n",
       "      <td>0.794473</td>\n",
       "      <td>0.799070</td>\n",
       "      <td>0.798735</td>\n",
       "    </tr>\n",
       "    <tr>\n",
       "      <th>std</th>\n",
       "      <td>0.039146</td>\n",
       "      <td>0.054635</td>\n",
       "      <td>0.034343</td>\n",
       "    </tr>\n",
       "    <tr>\n",
       "      <th>min</th>\n",
       "      <td>0.750000</td>\n",
       "      <td>0.714286</td>\n",
       "      <td>0.743590</td>\n",
       "    </tr>\n",
       "    <tr>\n",
       "      <th>25%</th>\n",
       "      <td>0.761905</td>\n",
       "      <td>0.761905</td>\n",
       "      <td>0.769331</td>\n",
       "    </tr>\n",
       "    <tr>\n",
       "      <th>50%</th>\n",
       "      <td>0.779070</td>\n",
       "      <td>0.795006</td>\n",
       "      <td>0.807692</td>\n",
       "    </tr>\n",
       "    <tr>\n",
       "      <th>75%</th>\n",
       "      <td>0.836707</td>\n",
       "      <td>0.850000</td>\n",
       "      <td>0.827311</td>\n",
       "    </tr>\n",
       "    <tr>\n",
       "      <th>max</th>\n",
       "      <td>0.846154</td>\n",
       "      <td>0.868421</td>\n",
       "      <td>0.842105</td>\n",
       "    </tr>\n",
       "  </tbody>\n",
       "</table>\n",
       "</div>"
      ],
      "text/plain": [
       "             SVM  Naive Bayes   AdaBoost\n",
       "count  10.000000    10.000000  10.000000\n",
       "mean    0.794473     0.799070   0.798735\n",
       "std     0.039146     0.054635   0.034343\n",
       "min     0.750000     0.714286   0.743590\n",
       "25%     0.761905     0.761905   0.769331\n",
       "50%     0.779070     0.795006   0.807692\n",
       "75%     0.836707     0.850000   0.827311\n",
       "max     0.846154     0.868421   0.842105"
      ]
     },
     "execution_count": 216,
     "metadata": {},
     "output_type": "execute_result"
    }
   ],
   "source": [
    "precisions_loans_df.describe()"
   ]
  },
  {
   "cell_type": "code",
   "execution_count": 47,
   "metadata": {},
   "outputs": [
    {
     "data": {
      "text/plain": [
       "<matplotlib.axes._subplots.AxesSubplot at 0x16d4e447ac8>"
      ]
     },
     "execution_count": 47,
     "metadata": {},
     "output_type": "execute_result"
    },
    {
     "data": {
      "image/png": "[encoded data removed]",
      "text/plain": [
       "<Figure size 432x288 with 1 Axes>"
      ]
     },
     "metadata": {
      "needs_background": "light"
     },
     "output_type": "display_data"
    }
   ],
   "source": [
    "# Show the line of \"no skill\" on the boxplot\n",
    "# \"no skill\" concept is taken from \n",
    "# https://machinelearningmastery.com/roc-curves-and-precision-recall-curves-for-classification-in-python/\n",
    "fig, ax = plt.subplots()\n",
    "ax.axhline(no_skill, color='r', ls='--', label='no_skill line')\n",
    "ax.legend()\n",
    "ax.set_title(\"Precision\")\n",
    "\n",
    "precisions_loans_df.boxplot(ax=ax,)"
   ]
  },
  {
   "cell_type": "code",
   "execution_count": 161,
   "metadata": {},
   "outputs": [],
   "source": [
    "# Compare the statistics of the accuracies across all cross-validation folds\n",
    "recalls_loans_df = pd.DataFrame(data={'SVM' : recalls_SVM, 'Naive Bayes' : recalls_NB, 'AdaBoost' : recalls_AB})"
   ]
  },
  {
   "cell_type": "code",
   "execution_count": 162,
   "metadata": {},
   "outputs": [
    {
     "data": {
      "text/html": [
       "<div>\n",
       "<style scoped>\n",
       "    .dataframe tbody tr th:only-of-type {\n",
       "        vertical-align: middle;\n",
       "    }\n",
       "\n",
       "    .dataframe tbody tr th {\n",
       "        vertical-align: top;\n",
       "    }\n",
       "\n",
       "    .dataframe thead th {\n",
       "        text-align: right;\n",
       "    }\n",
       "</style>\n",
       "<table border=\"1\" class=\"dataframe\">\n",
       "  <thead>\n",
       "    <tr style=\"text-align: right;\">\n",
       "      <th></th>\n",
       "      <th>SVM</th>\n",
       "      <th>Naive Bayes</th>\n",
       "      <th>AdaBoost</th>\n",
       "    </tr>\n",
       "  </thead>\n",
       "  <tbody>\n",
       "    <tr>\n",
       "      <th>count</th>\n",
       "      <td>10.000000</td>\n",
       "      <td>10.000000</td>\n",
       "      <td>10.000000</td>\n",
       "    </tr>\n",
       "    <tr>\n",
       "      <th>mean</th>\n",
       "      <td>0.978966</td>\n",
       "      <td>0.927451</td>\n",
       "      <td>0.913102</td>\n",
       "    </tr>\n",
       "    <tr>\n",
       "      <th>std</th>\n",
       "      <td>0.020076</td>\n",
       "      <td>0.074536</td>\n",
       "      <td>0.058228</td>\n",
       "    </tr>\n",
       "    <tr>\n",
       "      <th>min</th>\n",
       "      <td>0.941176</td>\n",
       "      <td>0.757576</td>\n",
       "      <td>0.823529</td>\n",
       "    </tr>\n",
       "    <tr>\n",
       "      <th>25%</th>\n",
       "      <td>0.969697</td>\n",
       "      <td>0.886364</td>\n",
       "      <td>0.878788</td>\n",
       "    </tr>\n",
       "    <tr>\n",
       "      <th>50%</th>\n",
       "      <td>0.969697</td>\n",
       "      <td>0.955437</td>\n",
       "      <td>0.909091</td>\n",
       "    </tr>\n",
       "    <tr>\n",
       "      <th>75%</th>\n",
       "      <td>1.000000</td>\n",
       "      <td>0.969697</td>\n",
       "      <td>0.962121</td>\n",
       "    </tr>\n",
       "    <tr>\n",
       "      <th>max</th>\n",
       "      <td>1.000000</td>\n",
       "      <td>1.000000</td>\n",
       "      <td>1.000000</td>\n",
       "    </tr>\n",
       "  </tbody>\n",
       "</table>\n",
       "</div>"
      ],
      "text/plain": [
       "             SVM  Naive Bayes   AdaBoost\n",
       "count  10.000000    10.000000  10.000000\n",
       "mean    0.978966     0.927451   0.913102\n",
       "std     0.020076     0.074536   0.058228\n",
       "min     0.941176     0.757576   0.823529\n",
       "25%     0.969697     0.886364   0.878788\n",
       "50%     0.969697     0.955437   0.909091\n",
       "75%     1.000000     0.969697   0.962121\n",
       "max     1.000000     1.000000   1.000000"
      ]
     },
     "execution_count": 162,
     "metadata": {},
     "output_type": "execute_result"
    }
   ],
   "source": [
    "recalls_loans_df.describe()"
   ]
  },
  {
   "cell_type": "code",
   "execution_count": 163,
   "metadata": {},
   "outputs": [
    {
     "data": {
      "text/plain": [
       "<matplotlib.axes._subplots.AxesSubplot at 0x16d4e27d160>"
      ]
     },
     "execution_count": 163,
     "metadata": {},
     "output_type": "execute_result"
    },
    {
     "data": {
      "image/png": "[encoded data removed]",
      "text/plain": [
       "<Figure size 432x288 with 1 Axes>"
      ]
     },
     "metadata": {
      "needs_background": "light"
     },
     "output_type": "display_data"
    }
   ],
   "source": [
    "recalls_loans_df.boxplot()"
   ]
  },
  {
   "cell_type": "markdown",
   "metadata": {},
   "source": [
    "# Task 2 Conclusions"
   ]
  },
  {
   "cell_type": "markdown",
   "metadata": {},
   "source": [
    "|*Precision*| SVM  | Naive Bayes | AdaBoost |*Recall*| SVM  | Naive Bayes | AdaBoost |\n",
    "|-----------|------|-------------|----------|--------|------|-------------|----------|\n",
    "| mean      | 0.79 | 0.80        | 0.80     | mean   | 0.98 | 0.93        | 0.91     |\n",
    "| std       | 0.04 | 0.05        | 0.03     | std    | 0.02 | 0.07        | 0.06     |\n",
    "| min       | 0.75 | 0.71        | 0.74     | min    | 0.94 | 0.76        | 0.82     |\n",
    "| 25%       | 0.76 | 0.76        | 0.77     | 25%    | 0.97 | 0.89        | 0.88     |\n",
    "| 50%       | 0.78 | 0.80        | 0.81     | 50%    | 0.97 | 0.96        | 0.91     |\n",
    "| 75%       | 0.84 | 0.85        | 0.83     | 75%    | 1.00 | 0.97        | 0.96     |\n",
    "| max       | 0.85 | 0.87        | 0.84     | max    | 1.00 | 1.00        | 1.00     |\n",
    "\n",
    "\n",
    "## ROC Curve and AUC Score\n",
    "\n",
    "* SVM has a higher mean AUC than NB and AdaBoost\n",
    "* This means that on average SVM is delivering a more skilful model than NB or AdaBoost\n",
    "* **Best AUC** : SVM\n",
    "\n",
    "## Precision\n",
    "\n",
    "* Precision is the ability of a classifier to not label a *true negative* as positive\n",
    "* In the case of the loans dataset, identifying a true negative as positive would\n",
    "  mean the ability to not approve a loan for an applicant who should not get a loan \n",
    "  due to being at risk of not being able to repay the loan\n",
    "* This is very important from this particular business application as it will minimse losses\n",
    "  due to bad debt\n",
    "  \n",
    "  \n",
    "* All three models have similar mean precision scores of about 0.8\n",
    "* NB shows a lot more variance than SVM or AdaBoost for Precision\n",
    "* Interestingly, unlike the previou metrics AdaBoost is outperforming SVM\n",
    "  in terms of precision, delivering a higher mean prevision with a lower variance\n",
    "* This suggests that on average AdaBoost may deliver higher precision than SVM\n",
    "* **Best Precision** : AdaBoost\n",
    "\n",
    "## Recall\n",
    "\n",
    "* Recall is the ability of a classifier to find positive examples\n",
    "* This measures how few true positives were incorrectly labelled as false negatives\n",
    "* A score of 1.0 means all true positives were identified\n",
    "* From a loans dataset perspective, this means the ability of the classifier to identify\n",
    "  all potential positive applicants who would qualify for a loan\n",
    "* High recall will ensure all potential good customers are identified and will allow the bank\n",
    "  to maximise profits if a model with both high precision and high recall is chosen\n",
    "  \n",
    "  \n",
    "* SVM significantly beats NB and AdaBoost in terms of recall with a mean score of 0.98\n",
    "* This means SVM identifies practially all positive applicants on average\n",
    "* In contrast, NB and AdaBoost lose between 7-9% of positive applicants on average\n",
    "* **Best Recall** :SVM\n",
    "\n",
    "## Overall Winner\n",
    "\n",
    "* AdaBoost has better precision than SVM but the SVM precision performance is not signifcantly worse than AdaBoost\n",
    "* In contrast, SVM has significantly better Recall performance than both AdaBoost and NB\n",
    "* Considering, both precision and recall together SVM is the best model to choose for this application\n",
    "* **Best Model** : SVM"
   ]
  },
  {
   "cell_type": "markdown",
   "metadata": {},
   "source": [
    "# Task 3 Model Improvement by Parameter Exploration\n",
    "\n",
    "* The task states *Assume that it is important to minimise the false positives (i.e., Loan_Status predicted to be 1 wrongly).*\n",
    "* This means the model should be explored in order to improve precision\n",
    "* In the previous analysis, AdaBoost beat SVM in terms of precision but overall SVM was still the best model\n",
    "* I am going to use GridSearchCV to explore the parameter space and I am going to set *scoring='precision'* in order to optimise with regards to precision over other metrics\n",
    "    * **NOTE** : I am restricting the exploration to this metric for the sake of time on this Etivity. It would be interesting to explore across other metrics\n",
    "* As AdaBoost showed promise in terms of precison with an out-of-the-box implementation, I also want to explore optimizing AdaBoost to see if its precision performance can get even better\n",
    "* Therefore I will optimise both AdaBoost and SVM"
   ]
  },
  {
   "cell_type": "markdown",
   "metadata": {},
   "source": [
    "## Task 3.1 AdaBoost Parameter Exploration"
   ]
  },
  {
   "cell_type": "code",
   "execution_count": null,
   "metadata": {},
   "outputs": [],
   "source": [
    "# AdaBoost GridSearch\n",
    "# From https://stackoverflow.com/questions/32210569/using-gridsearchcv-with-adaboost-and-decisiontreeclassifier\n",
    "from sklearn.tree import DecisionTreeClassifier\n",
    "from sklearn.svm import SVC\n",
    "from sklearn.ensemble import AdaBoostClassifier\n",
    "from sklearn.model_selection import GridSearchCV\n",
    "\n",
    "# Parameters to be explored\n",
    "param_grid = {\"base_estimator__criterion\" : [\"gini\", \"entropy\"],\n",
    "              \"base_estimator__splitter\" :   [\"best\", \"random\"],\n",
    "               \"n_estimators\": [50, 100, 200],\n",
    "               \"learning_rate\": [0.1, 0.2, 0.4, 0.8, 1.0]\n",
    "              }\n",
    "\n",
    "# Keep Decision Tree as Base Estimator but explore parameters used\n",
    "# by Decision Tree within AdaBoost\n",
    "dtc = DecisionTreeClassifier(max_depth=1)\n",
    "\n",
    "ABC = AdaBoostClassifier(base_estimator=dtc)\n",
    "\n",
    "# run grid search\n",
    "grid_search_ABC = GridSearchCV(ABC, cv=loan_folds, param_grid=param_grid, scoring='precision' )"
   ]
  },
  {
   "cell_type": "code",
   "execution_count": 90,
   "metadata": {},
   "outputs": [
    {
     "data": {
      "text/plain": [
       "{'cv': 10,\n",
       " 'error_score': 'raise-deprecating',\n",
       " 'estimator__algorithm': 'SAMME.R',\n",
       " 'estimator__base_estimator__class_weight': None,\n",
       " 'estimator__base_estimator__criterion': 'gini',\n",
       " 'estimator__base_estimator__max_depth': 1,\n",
       " 'estimator__base_estimator__max_features': None,\n",
       " 'estimator__base_estimator__max_leaf_nodes': None,\n",
       " 'estimator__base_estimator__min_impurity_decrease': 0.0,\n",
       " 'estimator__base_estimator__min_impurity_split': None,\n",
       " 'estimator__base_estimator__min_samples_leaf': 1,\n",
       " 'estimator__base_estimator__min_samples_split': 2,\n",
       " 'estimator__base_estimator__min_weight_fraction_leaf': 0.0,\n",
       " 'estimator__base_estimator__presort': False,\n",
       " 'estimator__base_estimator__random_state': None,\n",
       " 'estimator__base_estimator__splitter': 'best',\n",
       " 'estimator__base_estimator': DecisionTreeClassifier(class_weight=None, criterion='gini', max_depth=1,\n",
       "             max_features=None, max_leaf_nodes=None,\n",
       "             min_impurity_decrease=0.0, min_impurity_split=None,\n",
       "             min_samples_leaf=1, min_samples_split=2,\n",
       "             min_weight_fraction_leaf=0.0, presort=False, random_state=None,\n",
       "             splitter='best'),\n",
       " 'estimator__learning_rate': 1.0,\n",
       " 'estimator__n_estimators': 50,\n",
       " 'estimator__random_state': None,\n",
       " 'estimator': AdaBoostClassifier(algorithm='SAMME.R',\n",
       "           base_estimator=DecisionTreeClassifier(class_weight=None, criterion='gini', max_depth=1,\n",
       "             max_features=None, max_leaf_nodes=None,\n",
       "             min_impurity_decrease=0.0, min_impurity_split=None,\n",
       "             min_samples_leaf=1, min_samples_split=2,\n",
       "             min_weight_fraction_leaf=0.0, presort=False, random_state=None,\n",
       "             splitter='best'),\n",
       "           learning_rate=1.0, n_estimators=50, random_state=None),\n",
       " 'fit_params': None,\n",
       " 'iid': 'warn',\n",
       " 'n_jobs': None,\n",
       " 'param_grid': {'base_estimator__criterion': ['gini', 'entropy'],\n",
       "  'base_estimator__splitter': ['best', 'random'],\n",
       "  'n_estimators': [50, 100, 200],\n",
       "  'learning_rate': [0.1, 0.2, 0.4, 0.8, 1.0]},\n",
       " 'pre_dispatch': '2*n_jobs',\n",
       " 'refit': True,\n",
       " 'return_train_score': 'warn',\n",
       " 'scoring': 'precision',\n",
       " 'verbose': 0}"
      ]
     },
     "execution_count": 90,
     "metadata": {},
     "output_type": "execute_result"
    }
   ],
   "source": [
    "# View Parameters for the Search\n",
    "grid_search_ABC.get_params()"
   ]
  },
  {
   "cell_type": "code",
   "execution_count": 91,
   "metadata": {},
   "outputs": [
    {
     "name": "stderr",
     "output_type": "stream",
     "text": [
      "C:\\Users\\mpower1\\AppData\\Local\\Continuum\\anaconda3\\lib\\site-packages\\sklearn\\model_selection\\_search.py:841: DeprecationWarning: The default of the `iid` parameter will change from True to False in version 0.22 and will be removed in 0.24. This will change numeric results when test-set sizes are unequal.\n",
      "  DeprecationWarning)\n"
     ]
    },
    {
     "data": {
      "text/plain": [
       "GridSearchCV(cv=10, error_score='raise-deprecating',\n",
       "       estimator=AdaBoostClassifier(algorithm='SAMME.R',\n",
       "          base_estimator=DecisionTreeClassifier(class_weight=None, criterion='gini', max_depth=1,\n",
       "            max_features=None, max_leaf_nodes=None,\n",
       "            min_impurity_decrease=0.0, min_impurity_split=None,\n",
       "            min_samples_leaf=1, min_samples_split=2,\n",
       "            min_weight_fraction_leaf=0.0, presort=False, random_state=None,\n",
       "            splitter='best'),\n",
       "          learning_rate=1.0, n_estimators=50, random_state=None),\n",
       "       fit_params=None, iid='warn', n_jobs=None,\n",
       "       param_grid={'base_estimator__criterion': ['gini', 'entropy'], 'base_estimator__splitter': ['best', 'random'], 'n_estimators': [50, 100, 200], 'learning_rate': [0.1, 0.2, 0.4, 0.8, 1.0]},\n",
       "       pre_dispatch='2*n_jobs', refit=True, return_train_score='warn',\n",
       "       scoring='precision', verbose=0)"
      ]
     },
     "execution_count": 91,
     "metadata": {},
     "output_type": "execute_result"
    }
   ],
   "source": [
    "# Perform Grid Search\n",
    "grid_search_ABC.fit(predictors, target)"
   ]
  },
  {
   "cell_type": "code",
   "execution_count": 92,
   "metadata": {},
   "outputs": [],
   "source": [
    "# Create object based on best parameters found\n",
    "grid_clf = grid_search_ABC.best_estimator_"
   ]
  },
  {
   "cell_type": "code",
   "execution_count": 225,
   "metadata": {},
   "outputs": [
    {
     "data": {
      "text/plain": [
       "{'base_estimator__criterion': 'gini',\n",
       " 'base_estimator__splitter': 'random',\n",
       " 'learning_rate': 0.1,\n",
       " 'n_estimators': 200}"
      ]
     },
     "execution_count": 225,
     "metadata": {},
     "output_type": "execute_result"
    }
   ],
   "source": [
    "# View the best parameters found via grid search\n",
    "grid_search_ABC.best_params_"
   ]
  },
  {
   "cell_type": "code",
   "execution_count": 96,
   "metadata": {},
   "outputs": [],
   "source": [
    "# Get metrics based on the new parameters\n",
    "accuracies_ABC, f1_scores_ABC, precisions_ABC, recalls_ABC, tprs_ABC, aucs_ABC, = evaluate_classifier_upd(\n",
    "                                                                        folds=loan_folds, \n",
    "                                                                        p=predictors, t=target, \n",
    "                                                                        classifier=grid_clf, \n",
    "                                                                        mean_fpr=mean_fpr)"
   ]
  },
  {
   "cell_type": "code",
   "execution_count": 97,
   "metadata": {},
   "outputs": [
    {
     "data": {
      "image/png": "[encoded data removed]",
      "text/plain": [
       "<Figure size 432x288 with 1 Axes>"
      ]
     },
     "metadata": {
      "needs_background": "light"
     },
     "output_type": "display_data"
    }
   ],
   "source": [
    "# Plot a ROC curve for each cross-validation fold\n",
    "plot_roc_cv_folds(mean_fpr, tprs_ABC, aucs_ABC, 'AdaBoostC')"
   ]
  },
  {
   "cell_type": "code",
   "execution_count": 98,
   "metadata": {},
   "outputs": [
    {
     "data": {
      "image/png": "[encoded data removed]",
      "text/plain": [
       "<Figure size 432x288 with 1 Axes>"
      ]
     },
     "metadata": {
      "needs_background": "light"
     },
     "output_type": "display_data"
    }
   ],
   "source": [
    "# Plot a mean ROC curve for all cross-validation runs\n",
    "plot_roc_mean(mean_fpr, tprs_ABC, aucs_ABC, 'AdaBoostC')"
   ]
  },
  {
   "cell_type": "markdown",
   "metadata": {},
   "source": [
    "## Task 3.2 SVM Parameter Exploration"
   ]
  },
  {
   "cell_type": "code",
   "execution_count": null,
   "metadata": {},
   "outputs": [],
   "source": [
    "# Parameters to be varied\n",
    "C_vals = [0.001, 0.01, 0.1, 1, 10]\n",
    "gamma_vals = [0.001, 0.01, 0.1, 1, 'scale']\n",
    "kernel_vals = ['rbf', 'poly', 'sigmoid', 'linear']\n",
    "param_grid = {'C': C_vals, \n",
    "              'kernel' : kernel_vals,\n",
    "              'gamma' : gamma_vals}\n",
    "\n",
    "SVC  = svm.SVC(probability=True)\n",
    "\n",
    "# run grid search\n",
    "grid_search_SVC = GridSearchCV(SVC, cv=loan_folds, param_grid=param_grid, scoring='precision' )"
   ]
  },
  {
   "cell_type": "code",
   "execution_count": 226,
   "metadata": {},
   "outputs": [
    {
     "data": {
      "text/plain": [
       "{'cv': 10,\n",
       " 'error_score': 'raise-deprecating',\n",
       " 'estimator__C': 1.0,\n",
       " 'estimator__cache_size': 200,\n",
       " 'estimator__class_weight': None,\n",
       " 'estimator__coef0': 0.0,\n",
       " 'estimator__decision_function_shape': 'ovr',\n",
       " 'estimator__degree': 3,\n",
       " 'estimator__gamma': 'auto_deprecated',\n",
       " 'estimator__kernel': 'rbf',\n",
       " 'estimator__max_iter': -1,\n",
       " 'estimator__probability': True,\n",
       " 'estimator__random_state': None,\n",
       " 'estimator__shrinking': True,\n",
       " 'estimator__tol': 0.001,\n",
       " 'estimator__verbose': False,\n",
       " 'estimator': SVC(C=1.0, cache_size=200, class_weight=None, coef0=0.0,\n",
       "   decision_function_shape='ovr', degree=3, gamma='auto_deprecated',\n",
       "   kernel='rbf', max_iter=-1, probability=True, random_state=None,\n",
       "   shrinking=True, tol=0.001, verbose=False),\n",
       " 'fit_params': None,\n",
       " 'iid': 'warn',\n",
       " 'n_jobs': None,\n",
       " 'param_grid': {'C': [0.001, 0.01, 0.1, 1, 10],\n",
       "  'kernel': ['rbf', 'poly', 'sigmoid', 'linear'],\n",
       "  'gamma': [0.001, 0.01, 0.1, 1, 'scale']},\n",
       " 'pre_dispatch': '2*n_jobs',\n",
       " 'refit': True,\n",
       " 'return_train_score': 'warn',\n",
       " 'scoring': 'precision',\n",
       " 'verbose': 0}"
      ]
     },
     "execution_count": 226,
     "metadata": {},
     "output_type": "execute_result"
    }
   ],
   "source": [
    "# View parameters for search\n",
    "grid_search_SVC.get_params()"
   ]
  },
  {
   "cell_type": "code",
   "execution_count": 100,
   "metadata": {},
   "outputs": [
    {
     "name": "stderr",
     "output_type": "stream",
     "text": [
      "C:\\Users\\mpower1\\AppData\\Local\\Continuum\\anaconda3\\lib\\site-packages\\sklearn\\model_selection\\_search.py:841: DeprecationWarning: The default of the `iid` parameter will change from True to False in version 0.22 and will be removed in 0.24. This will change numeric results when test-set sizes are unequal.\n",
      "  DeprecationWarning)\n"
     ]
    },
    {
     "data": {
      "text/plain": [
       "GridSearchCV(cv=10, error_score='raise-deprecating',\n",
       "       estimator=SVC(C=1.0, cache_size=200, class_weight=None, coef0=0.0,\n",
       "  decision_function_shape='ovr', degree=3, gamma='auto_deprecated',\n",
       "  kernel='rbf', max_iter=-1, probability=True, random_state=None,\n",
       "  shrinking=True, tol=0.001, verbose=False),\n",
       "       fit_params=None, iid='warn', n_jobs=None,\n",
       "       param_grid={'C': [0.001, 0.01, 0.1, 1, 10], 'kernel': ['rbf', 'poly', 'sigmoid', 'linear'], 'gamma': [0.001, 0.01, 0.1, 1, 'scale']},\n",
       "       pre_dispatch='2*n_jobs', refit=True, return_train_score='warn',\n",
       "       scoring='precision', verbose=0)"
      ]
     },
     "execution_count": 100,
     "metadata": {},
     "output_type": "execute_result"
    }
   ],
   "source": [
    "# Perform GridSearch\n",
    "grid_search_SVC.fit(predictors, target)"
   ]
  },
  {
   "cell_type": "code",
   "execution_count": 101,
   "metadata": {},
   "outputs": [],
   "source": [
    "# Build new SVM classifier based on best parameters\n",
    "grid_svc = grid_search_SVC.best_estimator_"
   ]
  },
  {
   "cell_type": "code",
   "execution_count": 227,
   "metadata": {},
   "outputs": [
    {
     "data": {
      "text/plain": [
       "{'C': 10, 'gamma': 0.1, 'kernel': 'sigmoid'}"
      ]
     },
     "execution_count": 227,
     "metadata": {},
     "output_type": "execute_result"
    }
   ],
   "source": [
    "# View best parameters\n",
    "grid_search_SVC.best_params_"
   ]
  },
  {
   "cell_type": "code",
   "execution_count": 105,
   "metadata": {},
   "outputs": [],
   "source": [
    "# Get metrics based on the new parameters\n",
    "accuracies_SVC, f1_scores_SVC, precisions_SVC, recalls_SVC, tprs_SVC, aucs_SVC, = evaluate_classifier_upd(\n",
    "                                                                        folds=loan_folds, \n",
    "                                                                        p=predictors, t=target, \n",
    "                                                                        classifier=grid_svc, \n",
    "                                                                        mean_fpr=mean_fpr)"
   ]
  },
  {
   "cell_type": "code",
   "execution_count": 230,
   "metadata": {},
   "outputs": [
    {
     "data": {
      "image/png": "[encoded data removed]",
      "text/plain": [
       "<Figure size 432x288 with 1 Axes>"
      ]
     },
     "metadata": {
      "needs_background": "light"
     },
     "output_type": "display_data"
    }
   ],
   "source": [
    "plot_roc_multiple_classifiers(mean_fpr, \n",
    "                              np.stack((np.mean(tprs_SVM, axis=0), np.mean(tprs_SVC, axis=0), np.mean(tprs_AB, axis=0), np.mean(tprs_ABC, axis=0))), \n",
    "                              np.array([np.mean(aucs_SVM), np.mean(aucs_SVC), np.mean(aucs_AB), np.mean(aucs_ABC)]), \n",
    "                              np.array(['SVM', 'SVM', 'AdaBoost', 'AdaBoostC']))"
   ]
  },
  {
   "cell_type": "code",
   "execution_count": 231,
   "metadata": {},
   "outputs": [],
   "source": [
    "# Compare the statistics of the accuracies across all cross-validation folds\n",
    "accuracies_loans_cv_df = pd.DataFrame(data={'SVM' : accuracies_SVM, 'SVMC' : accuracies_SVC, 'AdaBoost' : accuracies_AB,'AdaBoostC' : accuracies_ABC})"
   ]
  },
  {
   "cell_type": "code",
   "execution_count": 232,
   "metadata": {},
   "outputs": [
    {
     "data": {
      "text/html": [
       "<div>\n",
       "<style scoped>\n",
       "    .dataframe tbody tr th:only-of-type {\n",
       "        vertical-align: middle;\n",
       "    }\n",
       "\n",
       "    .dataframe tbody tr th {\n",
       "        vertical-align: top;\n",
       "    }\n",
       "\n",
       "    .dataframe thead th {\n",
       "        text-align: right;\n",
       "    }\n",
       "</style>\n",
       "<table border=\"1\" class=\"dataframe\">\n",
       "  <thead>\n",
       "    <tr style=\"text-align: right;\">\n",
       "      <th></th>\n",
       "      <th>SVM</th>\n",
       "      <th>SVMC</th>\n",
       "      <th>AdaBoost</th>\n",
       "      <th>AdaBoostC</th>\n",
       "    </tr>\n",
       "  </thead>\n",
       "  <tbody>\n",
       "    <tr>\n",
       "      <th>count</th>\n",
       "      <td>10.000000</td>\n",
       "      <td>10.000000</td>\n",
       "      <td>10.000000</td>\n",
       "      <td>10.000000</td>\n",
       "    </tr>\n",
       "    <tr>\n",
       "      <th>mean</th>\n",
       "      <td>0.808650</td>\n",
       "      <td>0.806567</td>\n",
       "      <td>0.779519</td>\n",
       "      <td>0.812818</td>\n",
       "    </tr>\n",
       "    <tr>\n",
       "      <th>std</th>\n",
       "      <td>0.042218</td>\n",
       "      <td>0.041370</td>\n",
       "      <td>0.045352</td>\n",
       "      <td>0.056282</td>\n",
       "    </tr>\n",
       "    <tr>\n",
       "      <th>min</th>\n",
       "      <td>0.755102</td>\n",
       "      <td>0.755102</td>\n",
       "      <td>0.708333</td>\n",
       "      <td>0.687500</td>\n",
       "    </tr>\n",
       "    <tr>\n",
       "      <th>25%</th>\n",
       "      <td>0.770833</td>\n",
       "      <td>0.770833</td>\n",
       "      <td>0.759035</td>\n",
       "      <td>0.796875</td>\n",
       "    </tr>\n",
       "    <tr>\n",
       "      <th>50%</th>\n",
       "      <td>0.803997</td>\n",
       "      <td>0.802083</td>\n",
       "      <td>0.789450</td>\n",
       "      <td>0.812500</td>\n",
       "    </tr>\n",
       "    <tr>\n",
       "      <th>75%</th>\n",
       "      <td>0.846631</td>\n",
       "      <td>0.842380</td>\n",
       "      <td>0.791667</td>\n",
       "      <td>0.858337</td>\n",
       "    </tr>\n",
       "    <tr>\n",
       "      <th>max</th>\n",
       "      <td>0.872340</td>\n",
       "      <td>0.872340</td>\n",
       "      <td>0.851064</td>\n",
       "      <td>0.875000</td>\n",
       "    </tr>\n",
       "  </tbody>\n",
       "</table>\n",
       "</div>"
      ],
      "text/plain": [
       "             SVM       SVMC   AdaBoost  AdaBoostC\n",
       "count  10.000000  10.000000  10.000000  10.000000\n",
       "mean    0.808650   0.806567   0.779519   0.812818\n",
       "std     0.042218   0.041370   0.045352   0.056282\n",
       "min     0.755102   0.755102   0.708333   0.687500\n",
       "25%     0.770833   0.770833   0.759035   0.796875\n",
       "50%     0.803997   0.802083   0.789450   0.812500\n",
       "75%     0.846631   0.842380   0.791667   0.858337\n",
       "max     0.872340   0.872340   0.851064   0.875000"
      ]
     },
     "execution_count": 232,
     "metadata": {},
     "output_type": "execute_result"
    }
   ],
   "source": [
    "accuracies_loans_cv_df.describe()"
   ]
  },
  {
   "cell_type": "code",
   "execution_count": 233,
   "metadata": {},
   "outputs": [
    {
     "data": {
      "text/plain": [
       "<matplotlib.axes._subplots.AxesSubplot at 0x16d4f960240>"
      ]
     },
     "execution_count": 233,
     "metadata": {},
     "output_type": "execute_result"
    },
    {
     "data": {
      "image/png": "[encoded data removed]",
      "text/plain": [
       "<Figure size 432x288 with 1 Axes>"
      ]
     },
     "metadata": {
      "needs_background": "light"
     },
     "output_type": "display_data"
    }
   ],
   "source": [
    "fig, ax = plt.subplots()\n",
    "ax.set_title(\"Accuracies CV\")\n",
    "\n",
    "accuracies_loans_cv_df.boxplot(ax=ax)"
   ]
  },
  {
   "cell_type": "code",
   "execution_count": 217,
   "metadata": {},
   "outputs": [],
   "source": [
    "# Compare the statistics of the F1-scores across all cross-validation folds\n",
    "f1_scores_loans_cv_df = pd.DataFrame(data={'SVM' : f1_scores_SVM, 'SVMC' : f1_scores_SVC, 'AdaBoost' : f1_scores_AB,'AdaBoostC' : f1_scores_ABC})"
   ]
  },
  {
   "cell_type": "code",
   "execution_count": 218,
   "metadata": {
    "scrolled": true
   },
   "outputs": [
    {
     "data": {
      "text/html": [
       "<div>\n",
       "<style scoped>\n",
       "    .dataframe tbody tr th:only-of-type {\n",
       "        vertical-align: middle;\n",
       "    }\n",
       "\n",
       "    .dataframe tbody tr th {\n",
       "        vertical-align: top;\n",
       "    }\n",
       "\n",
       "    .dataframe thead th {\n",
       "        text-align: right;\n",
       "    }\n",
       "</style>\n",
       "<table border=\"1\" class=\"dataframe\">\n",
       "  <thead>\n",
       "    <tr style=\"text-align: right;\">\n",
       "      <th></th>\n",
       "      <th>SVM</th>\n",
       "      <th>SVMC</th>\n",
       "      <th>AdaBoost</th>\n",
       "      <th>AdaBoostC</th>\n",
       "    </tr>\n",
       "  </thead>\n",
       "  <tbody>\n",
       "    <tr>\n",
       "      <th>count</th>\n",
       "      <td>10.000000</td>\n",
       "      <td>10.000000</td>\n",
       "      <td>10.000000</td>\n",
       "      <td>10.000000</td>\n",
       "    </tr>\n",
       "    <tr>\n",
       "      <th>mean</th>\n",
       "      <td>0.876583</td>\n",
       "      <td>0.874089</td>\n",
       "      <td>0.850967</td>\n",
       "      <td>0.876900</td>\n",
       "    </tr>\n",
       "    <tr>\n",
       "      <th>std</th>\n",
       "      <td>0.025271</td>\n",
       "      <td>0.026436</td>\n",
       "      <td>0.032107</td>\n",
       "      <td>0.037065</td>\n",
       "    </tr>\n",
       "    <tr>\n",
       "      <th>min</th>\n",
       "      <td>0.842105</td>\n",
       "      <td>0.840580</td>\n",
       "      <td>0.805556</td>\n",
       "      <td>0.794521</td>\n",
       "    </tr>\n",
       "    <tr>\n",
       "      <th>25%</th>\n",
       "      <td>0.854286</td>\n",
       "      <td>0.854286</td>\n",
       "      <td>0.829976</td>\n",
       "      <td>0.866040</td>\n",
       "    </tr>\n",
       "    <tr>\n",
       "      <th>50%</th>\n",
       "      <td>0.875769</td>\n",
       "      <td>0.872567</td>\n",
       "      <td>0.852941</td>\n",
       "      <td>0.880000</td>\n",
       "    </tr>\n",
       "    <tr>\n",
       "      <th>75%</th>\n",
       "      <td>0.898279</td>\n",
       "      <td>0.896836</td>\n",
       "      <td>0.866594</td>\n",
       "      <td>0.906494</td>\n",
       "    </tr>\n",
       "    <tr>\n",
       "      <th>max</th>\n",
       "      <td>0.916667</td>\n",
       "      <td>0.916667</td>\n",
       "      <td>0.901408</td>\n",
       "      <td>0.916667</td>\n",
       "    </tr>\n",
       "  </tbody>\n",
       "</table>\n",
       "</div>"
      ],
      "text/plain": [
       "             SVM       SVMC   AdaBoost  AdaBoostC\n",
       "count  10.000000  10.000000  10.000000  10.000000\n",
       "mean    0.876583   0.874089   0.850967   0.876900\n",
       "std     0.025271   0.026436   0.032107   0.037065\n",
       "min     0.842105   0.840580   0.805556   0.794521\n",
       "25%     0.854286   0.854286   0.829976   0.866040\n",
       "50%     0.875769   0.872567   0.852941   0.880000\n",
       "75%     0.898279   0.896836   0.866594   0.906494\n",
       "max     0.916667   0.916667   0.901408   0.916667"
      ]
     },
     "execution_count": 218,
     "metadata": {},
     "output_type": "execute_result"
    }
   ],
   "source": [
    "f1_scores_loans_cv_df.describe()"
   ]
  },
  {
   "cell_type": "code",
   "execution_count": 219,
   "metadata": {},
   "outputs": [
    {
     "data": {
      "text/plain": [
       "<matplotlib.axes._subplots.AxesSubplot at 0x16d500e5390>"
      ]
     },
     "execution_count": 219,
     "metadata": {},
     "output_type": "execute_result"
    },
    {
     "data": {
      "image/png": "[encoded data removed]",
      "text/plain": [
       "<Figure size 432x288 with 1 Axes>"
      ]
     },
     "metadata": {
      "needs_background": "light"
     },
     "output_type": "display_data"
    }
   ],
   "source": [
    "fig, ax = plt.subplots()\n",
    "ax.set_title(\"F1 Score CV\")\n",
    "\n",
    "f1_scores_loans_cv_df.boxplot(ax=ax)"
   ]
  },
  {
   "cell_type": "code",
   "execution_count": 207,
   "metadata": {},
   "outputs": [],
   "source": [
    "# Compare the statistics of the precisions across all cross-validation folds\n",
    "precisions_loans_cv_df = pd.DataFrame(data={'SVM' : precisions_SVM, 'SVMC' : precisions_SVC, 'AdaBoost' : precisions_AB, 'AdaBoostC' : precisions_ABC})"
   ]
  },
  {
   "cell_type": "code",
   "execution_count": 208,
   "metadata": {},
   "outputs": [
    {
     "data": {
      "text/html": [
       "<div>\n",
       "<style scoped>\n",
       "    .dataframe tbody tr th:only-of-type {\n",
       "        vertical-align: middle;\n",
       "    }\n",
       "\n",
       "    .dataframe tbody tr th {\n",
       "        vertical-align: top;\n",
       "    }\n",
       "\n",
       "    .dataframe thead th {\n",
       "        text-align: right;\n",
       "    }\n",
       "</style>\n",
       "<table border=\"1\" class=\"dataframe\">\n",
       "  <thead>\n",
       "    <tr style=\"text-align: right;\">\n",
       "      <th></th>\n",
       "      <th>SVM</th>\n",
       "      <th>SVMC</th>\n",
       "      <th>AdaBoost</th>\n",
       "      <th>AdaBoostC</th>\n",
       "    </tr>\n",
       "  </thead>\n",
       "  <tbody>\n",
       "    <tr>\n",
       "      <th>count</th>\n",
       "      <td>10.000000</td>\n",
       "      <td>10.000000</td>\n",
       "      <td>10.000000</td>\n",
       "      <td>10.000000</td>\n",
       "    </tr>\n",
       "    <tr>\n",
       "      <th>mean</th>\n",
       "      <td>0.794473</td>\n",
       "      <td>0.796787</td>\n",
       "      <td>0.798735</td>\n",
       "      <td>0.805299</td>\n",
       "    </tr>\n",
       "    <tr>\n",
       "      <th>std</th>\n",
       "      <td>0.039146</td>\n",
       "      <td>0.036746</td>\n",
       "      <td>0.034343</td>\n",
       "      <td>0.041932</td>\n",
       "    </tr>\n",
       "    <tr>\n",
       "      <th>min</th>\n",
       "      <td>0.750000</td>\n",
       "      <td>0.750000</td>\n",
       "      <td>0.743590</td>\n",
       "      <td>0.725000</td>\n",
       "    </tr>\n",
       "    <tr>\n",
       "      <th>25%</th>\n",
       "      <td>0.761905</td>\n",
       "      <td>0.763289</td>\n",
       "      <td>0.769331</td>\n",
       "      <td>0.785714</td>\n",
       "    </tr>\n",
       "    <tr>\n",
       "      <th>50%</th>\n",
       "      <td>0.779070</td>\n",
       "      <td>0.795349</td>\n",
       "      <td>0.807692</td>\n",
       "      <td>0.792785</td>\n",
       "    </tr>\n",
       "    <tr>\n",
       "      <th>75%</th>\n",
       "      <td>0.836707</td>\n",
       "      <td>0.832968</td>\n",
       "      <td>0.827311</td>\n",
       "      <td>0.842949</td>\n",
       "    </tr>\n",
       "    <tr>\n",
       "      <th>max</th>\n",
       "      <td>0.846154</td>\n",
       "      <td>0.846154</td>\n",
       "      <td>0.842105</td>\n",
       "      <td>0.864865</td>\n",
       "    </tr>\n",
       "  </tbody>\n",
       "</table>\n",
       "</div>"
      ],
      "text/plain": [
       "             SVM       SVMC   AdaBoost  AdaBoostC\n",
       "count  10.000000  10.000000  10.000000  10.000000\n",
       "mean    0.794473   0.796787   0.798735   0.805299\n",
       "std     0.039146   0.036746   0.034343   0.041932\n",
       "min     0.750000   0.750000   0.743590   0.725000\n",
       "25%     0.761905   0.763289   0.769331   0.785714\n",
       "50%     0.779070   0.795349   0.807692   0.792785\n",
       "75%     0.836707   0.832968   0.827311   0.842949\n",
       "max     0.846154   0.846154   0.842105   0.864865"
      ]
     },
     "execution_count": 208,
     "metadata": {},
     "output_type": "execute_result"
    }
   ],
   "source": [
    "precisions_loans_cv_df.describe()"
   ]
  },
  {
   "cell_type": "code",
   "execution_count": 210,
   "metadata": {},
   "outputs": [
    {
     "data": {
      "text/plain": [
       "<matplotlib.axes._subplots.AxesSubplot at 0x16d4fc0e8d0>"
      ]
     },
     "execution_count": 210,
     "metadata": {},
     "output_type": "execute_result"
    },
    {
     "data": {
      "image/png": "[encoded data removed]",
      "text/plain": [
       "<Figure size 432x288 with 1 Axes>"
      ]
     },
     "metadata": {
      "needs_background": "light"
     },
     "output_type": "display_data"
    }
   ],
   "source": [
    "# Show the line of \"no skill\" on the boxplot\n",
    "# \"no skill\" concept is taken from \n",
    "# https://machinelearningmastery.com/roc-curves-and-precision-recall-curves-for-classification-in-python/\n",
    "fig, ax = plt.subplots()\n",
    "ax.axhline(no_skill, color='r', ls='--', label='no_skill line')\n",
    "ax.legend()\n",
    "ax.set_title(\"Precision CV\")\n",
    "\n",
    "precisions_loans_cv_df.boxplot(ax=ax,)"
   ]
  },
  {
   "cell_type": "code",
   "execution_count": 220,
   "metadata": {},
   "outputs": [],
   "source": [
    "recalls_loans_cv_df = pd.DataFrame(data={'SVM' : recalls_SVM, 'SVMC' : recalls_SVC, 'AdaBoost' : recalls_AB, 'AdaBoostC' : recalls_ABC})"
   ]
  },
  {
   "cell_type": "code",
   "execution_count": 221,
   "metadata": {},
   "outputs": [
    {
     "data": {
      "text/html": [
       "<div>\n",
       "<style scoped>\n",
       "    .dataframe tbody tr th:only-of-type {\n",
       "        vertical-align: middle;\n",
       "    }\n",
       "\n",
       "    .dataframe tbody tr th {\n",
       "        vertical-align: top;\n",
       "    }\n",
       "\n",
       "    .dataframe thead th {\n",
       "        text-align: right;\n",
       "    }\n",
       "</style>\n",
       "<table border=\"1\" class=\"dataframe\">\n",
       "  <thead>\n",
       "    <tr style=\"text-align: right;\">\n",
       "      <th></th>\n",
       "      <th>SVM</th>\n",
       "      <th>SVMC</th>\n",
       "      <th>AdaBoost</th>\n",
       "      <th>AdaBoostC</th>\n",
       "    </tr>\n",
       "  </thead>\n",
       "  <tbody>\n",
       "    <tr>\n",
       "      <th>count</th>\n",
       "      <td>10.000000</td>\n",
       "      <td>10.000000</td>\n",
       "      <td>10.000000</td>\n",
       "      <td>10.000000</td>\n",
       "    </tr>\n",
       "    <tr>\n",
       "      <th>mean</th>\n",
       "      <td>0.978966</td>\n",
       "      <td>0.969875</td>\n",
       "      <td>0.913102</td>\n",
       "      <td>0.963904</td>\n",
       "    </tr>\n",
       "    <tr>\n",
       "      <th>std</th>\n",
       "      <td>0.020076</td>\n",
       "      <td>0.037640</td>\n",
       "      <td>0.058228</td>\n",
       "      <td>0.046606</td>\n",
       "    </tr>\n",
       "    <tr>\n",
       "      <th>min</th>\n",
       "      <td>0.941176</td>\n",
       "      <td>0.878788</td>\n",
       "      <td>0.823529</td>\n",
       "      <td>0.878788</td>\n",
       "    </tr>\n",
       "    <tr>\n",
       "      <th>25%</th>\n",
       "      <td>0.969697</td>\n",
       "      <td>0.969697</td>\n",
       "      <td>0.878788</td>\n",
       "      <td>0.926248</td>\n",
       "    </tr>\n",
       "    <tr>\n",
       "      <th>50%</th>\n",
       "      <td>0.969697</td>\n",
       "      <td>0.969697</td>\n",
       "      <td>0.909091</td>\n",
       "      <td>0.984848</td>\n",
       "    </tr>\n",
       "    <tr>\n",
       "      <th>75%</th>\n",
       "      <td>1.000000</td>\n",
       "      <td>1.000000</td>\n",
       "      <td>0.962121</td>\n",
       "      <td>1.000000</td>\n",
       "    </tr>\n",
       "    <tr>\n",
       "      <th>max</th>\n",
       "      <td>1.000000</td>\n",
       "      <td>1.000000</td>\n",
       "      <td>1.000000</td>\n",
       "      <td>1.000000</td>\n",
       "    </tr>\n",
       "  </tbody>\n",
       "</table>\n",
       "</div>"
      ],
      "text/plain": [
       "             SVM       SVMC   AdaBoost  AdaBoostC\n",
       "count  10.000000  10.000000  10.000000  10.000000\n",
       "mean    0.978966   0.969875   0.913102   0.963904\n",
       "std     0.020076   0.037640   0.058228   0.046606\n",
       "min     0.941176   0.878788   0.823529   0.878788\n",
       "25%     0.969697   0.969697   0.878788   0.926248\n",
       "50%     0.969697   0.969697   0.909091   0.984848\n",
       "75%     1.000000   1.000000   0.962121   1.000000\n",
       "max     1.000000   1.000000   1.000000   1.000000"
      ]
     },
     "execution_count": 221,
     "metadata": {},
     "output_type": "execute_result"
    }
   ],
   "source": [
    "recalls_loans_cv_df.describe()"
   ]
  },
  {
   "cell_type": "code",
   "execution_count": 222,
   "metadata": {},
   "outputs": [
    {
     "data": {
      "text/plain": [
       "<matplotlib.axes._subplots.AxesSubplot at 0x16d4fb474e0>"
      ]
     },
     "execution_count": 222,
     "metadata": {},
     "output_type": "execute_result"
    },
    {
     "data": {
      "image/png": "[encoded data removed]",
      "text/plain": [
       "<Figure size 432x288 with 1 Axes>"
      ]
     },
     "metadata": {
      "needs_background": "light"
     },
     "output_type": "display_data"
    }
   ],
   "source": [
    "fig, ax = plt.subplots()\n",
    "ax.set_title(\"Recall CV\")\n",
    "\n",
    "recalls_loans_cv_df.boxplot(ax=ax,)"
   ]
  },
  {
   "cell_type": "markdown",
   "metadata": {},
   "source": [
    "## Task 3 AdaBoost GridSearch Conclusions"
   ]
  },
  {
   "cell_type": "markdown",
   "metadata": {},
   "source": [
    "Based on GridSearchCV, the best parameters were found in order to optimise precision. A comparison of the parameters found during GridSearchCV versus the default parameters used in the original run are provided in the following table:\n",
    "\n",
    "| AdaBoost Parameters       | Default Value | GridSearchCV Value |\n",
    "|---------------------------|---------------|--------------------|\n",
    "| base_estimator__criterion | gini          | gini               |\n",
    "| base_estimator__splitter  | best          | random             |\n",
    "| learning_rate             | 1             | 0.1                |\n",
    "| n_estimators              | 50            | 200                |\n",
    "\n",
    "#### Performance Change with GridSearch\n",
    "* Accuracy\n",
    "    * Mean accuracy improved by 3% at the cost of a 1% increase in variance\n",
    "* F1 Score\n",
    "    * The F1 improved similar to accuracy in that a 3% increase in mean F1 came at expense of 1% increase in variance\n",
    "* Precision\n",
    "    * As the scoring metric was set to \"precision\", of all the metrics this is the one where an improve is expected\n",
    "    * A performance did occur but it was only ~1% and again came with an increase in variance\n",
    "* Recall\n",
    "    * Recall showed the biggest improvement of 5% and with a reduction in varinace\n",
    "* AUC\n",
    "    * The mean AUC jumped by 5% which suggests that on average a more skilful model is being delivered after applying the parameters found using Gridsearch CV\n",
    "\n",
    "\n",
    "| Measure   | AdaBoost | AdaBoostC | Delta  |\n",
    "|-----------|----------|-----------|--------|\n",
    "| **Accuracy**      |\n",
    "| mean      | 0.78     | 0.81      | 0.033  |\n",
    "| std       | 0.05     | 0.06      | 0.011  |\n",
    "| **F1**         |\n",
    "| mean      | 0.85     | 0.88      | 0.026  |\n",
    "| std       | 0.03     | 0.04      | 0.005  |\n",
    "| **Precision**        |\n",
    "| mean      | 0.80     | 0.81      | 0.007  |\n",
    "| std       | 0.03     | 0.04      | 0.008  |\n",
    "| **Recall**          |\n",
    "| mean      | 0.91     | 0.96      | 0.051  |\n",
    "| std       | 0.06     | 0.05      | -0.012 |\n",
    "| **AUC**          |\n",
    "| Mean | 0.66 | 0.71 | 0.050 |"
   ]
  },
  {
   "cell_type": "markdown",
   "metadata": {},
   "source": [
    "## Task 3 SVM GridSearch Conclusions\n",
    "\n",
    "Based on GridSearchCV, the best parameters were found in order to optimise precision. A comparison of the parameters found during GridSearchCV versus the default parameters used in the original run are provided in the following table:\n",
    "\n",
    "| SVM Parameters | Default Value | GridSearchCV Value |\n",
    "|----------------|---------------|--------------------|\n",
    "| C              | 1             | 10                 |\n",
    "| gamma          | auto          | 0.1                |\n",
    "| kernel         | rbf           | sigmoid            |\n",
    "\n",
    "#### Performance Change with GridSearch\n",
    "* Accuracy\n",
    "    * There is a negligible change in mean accuracy between the default parameters and the parameters found using GridSearchCV\n",
    "* F1 Score\n",
    "    * There is a negligible change in mean F1 Score between the default parameters and the parameters found using GridSearchCV\n",
    "* Precision\n",
    "    * As the scoring metric was set to \"precision\", of all the metrics this is the one where an improve is expected\n",
    "    * A performance did occur but it was only ~1%. However, unlike AdaBoost it did come at the expense of increase variance\n",
    "* Recall\n",
    "    * Recall showed a moderate drop in performance and an increase in variance\n",
    "* AUC\n",
    "    * There is a negligible change in mean AUC which means that the average skill delivered by the SVM model is about the same for both sets of parameters\n",
    "    \n",
    "    \n",
    "| Measure   | SVM  | SVMC | Delta  |\n",
    "|-----------|------|------|--------|\n",
    "| **Accuracy**          |\n",
    "| mean      | 0.81 | 0.81 | -0.002 |\n",
    "| std       | 0.04 | 0.04 | -0.001 |\n",
    "| **F1**            |\n",
    "| mean      | 0.88 | 0.87 | -0.002 |\n",
    "| std       | 0.03 | 0.03 | 0.001  |\n",
    "| **Precision**        |\n",
    "| mean      | 0.79 | 0.80 | 0.002  |\n",
    "| std       | 0.04 | 0.04 | -0.002 |\n",
    "|**Recall**           |\n",
    "| mean      | 0.98 | 0.97 | -0.009 |\n",
    "| std       | 0.02 | 0.04 | 0.018  |\n",
    "| **AUC**    |\n",
    "| Mean | 0.72 | 0.72 | 0.000 |"
   ]
  },
  {
   "cell_type": "markdown",
   "metadata": {},
   "source": [
    "#  Task 3 Final Conclusions"
   ]
  },
  {
   "cell_type": "markdown",
   "metadata": {},
   "source": [
    "* During the initial analysis, SVM was clearly the best model and beat AdaBoost on all metrics except Precison\n",
    "* After running GridSearchCV, it is no longer as clear that SVM is the best model\n",
    "* GridSearchCV did not meaningful improve the performance of SVM but it did improve the performance of AdaBoost\n",
    "\n",
    "#### Performance Comparison After GridSearch\n",
    "* Accuracy\n",
    "    * AdaBoost now achieves the same mean accuracy as SVM (0.81) but with slightly worse variance\n",
    "* F1 Score\n",
    "    * AdaBoost now achieves the same mean F1 Score as SVM (0.88) but with slightly worse variance\n",
    "* Precision\n",
    "    * AdaBoost has higher precision than SVM although the variance went up after GridSearch\n",
    "* Recall\n",
    "    * AdaBoost got a 5% increase in Recall and no only lags SVM by 2% instea of 7%\n",
    "    * However the Recall variance of AdaBoost is still 2.5x the variance of SVM\n",
    "* AUC\n",
    "    * The AdaBoost AUC is improved by 5% which brings it within 1% of SVM\n",
    "\n",
    "| Measure   | SVM  | SVMC | AdaBoost | AdaBoostC |\n",
    "|-----------|------|------|----------|-----------|\n",
    "| **Accuracy**         |\n",
    "| mean      | 0.81 | 0.81 | 0.78     | 0.81      |\n",
    "| std       | 0.04 | 0.04 | 0.05     | 0.06      |\n",
    "| **F1**                   |\n",
    "| mean      | 0.88 | 0.87 | 0.85     | 0.88      |\n",
    "| std       | 0.03 | 0.03 | 0.03     | 0.04      |\n",
    "| **Precision**          |\n",
    "| mean      | 0.79 | 0.80 | 0.80     | 0.81      |\n",
    "| std       | 0.04 | 0.04 | 0.03     | 0.04      |\n",
    "| **Recall**             |\n",
    "| mean      | 0.98 | 0.97 | 0.91     | 0.96      |\n",
    "| std       | 0.02 | 0.04 | 0.06     | 0.05      |\n",
    "| **AUC**             |\n",
    "| mean      | 0.72 | 0.72 | 0.66     | 0.71      |\n",
    "\n",
    "## Overall Winner after GridSearchCV\n",
    "\n",
    "* AdaBoost has better precision than SVM but the SVM precision performance is not signifcantly worse than AdaBoost\n",
    "* In contrast, SVM has significantly better Recall performance than both AdaBoost and NB\n",
    "* Considering, both precision and recall together SVM is the best model to choose for this application\n",
    "* The performance of AdaBoost after GridSearchCV was significantly improved relative to the default values of AdaBoost\n",
    "* It is now comparable to SVM on almost all mean metrics\n",
    "* However, for all metrics SVM has equivalent or lower variance to AdaBoost meaning that on average the SVM models are more stable and consistent at producing results\n",
    "* **Best Model** : SVM"
   ]
  }
 ],
 "metadata": {
  "kernelspec": {
   "display_name": "Python 3",
   "language": "python",
   "name": "python3"
  },
  "language_info": {
   "codemirror_mode": {
    "name": "ipython",
    "version": 3
   },
   "file_extension": ".py",
   "mimetype": "text/x-python",
   "name": "python",
   "nbconvert_exporter": "python",
   "pygments_lexer": "ipython3",
   "version": "3.7.1"
  }
 },
 "nbformat": 4,
 "nbformat_minor": 2
}
